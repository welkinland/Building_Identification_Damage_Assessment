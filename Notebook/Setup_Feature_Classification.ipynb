{
  "nbformat": 4,
  "nbformat_minor": 0,
  "metadata": {
    "colab": {
      "name": "Setup_Feature_06032020_YH.ipynb",
      "provenance": [],
      "collapsed_sections": [],
      "toc_visible": true
    },
    "kernelspec": {
      "name": "python3",
      "display_name": "Python 3"
    }
  },
  "cells": [
    {
      "cell_type": "markdown",
      "metadata": {
        "id": "IBVUkJ7slKp6",
        "colab_type": "text"
      },
      "source": [
        "# Building Damage Assessment from High-resolutoin Remote Sensing Images"
      ]
    },
    {
      "cell_type": "markdown",
      "metadata": {
        "id": "zSLNdS3ylSEK",
        "colab_type": "text"
      },
      "source": [
        "In this project, I tested several machine learning methods on classifying fire-induced building damages from high-resolution remote sensing images and analyzed important features related to the predictions. Specifically, I used annotations of fire-related damages from the xView 2 Building Damage Assessment dataset and trained the classification model on high resolution NAIP remote sensing images (0.6 meter resolution with RGB and NIR bands) of corresponding fire events.\n",
        "<br>Main Pipeline:\n",
        "<br>**Data Preprocessing**: As both XView building annotations and NAIP images include geograohic information, XView data was converted to shapefiles to filter out corresponding NAIP images in the same location through GEE API. Both pre-fire and post-fire images were used. \n",
        "<br>**Feature Calculation:** Based on the four channels of NAIP images, features were further calculated through band math, convolutoinal filters and unsupervised methods. \n",
        "<br>**Classification Model:** Decision tree, SVM, random forest, xgboost, and simple neural networks were built to test their predictability of buliding damage types. The dicision tree, SVM, and random forest were run directly on the server provided by GEE API. XGBoost and neural net were run locally on images extracted through GEE from Google Colab. Feature effects on predictions were also evaluated (detailed analysis based on XGBoost results)"
      ]
    },
    {
      "cell_type": "markdown",
      "metadata": {
        "id": "0wv-6InVlTVM",
        "colab_type": "text"
      },
      "source": [
        "## Table of Content\n",
        "(1) __Preprocessing XView Data__ (See *xview_preprocessing.py*): extract geographic coordinates and fire-related annotations as geojson and shapefilesfrom XView json files\n",
        "<br>(2) __Set up__: Load API and packages. Connect to Google Drive, GEE API, and load annotations\n",
        "<br>(3) __Visualize Dataset__: use GEE API and leaflet to visualize ground truth labels and acquire NAIP images based on the locations of these labels\n",
        "<br>(4) __Features Calculation__: calculate several useful features for classification, including remote sensing indices, texture metrics, and some layers filtered by convolutional filters\n",
        "<br>(5) __Unsupervised Clustering Features__: use some unsupervised methods to get clusters, superpixels, or segmentations as features; summarize characteristics of unsupervised features \n",
        "<br>(6) __Image Extraction__: using the extent of buildings with the same image id as the boundary to extract NAIP images from the GEE API. Exported images were saved on Google Drive\n",
        "<br>(7) __Supervised Classification (server-end)__: GEE provide some fuctions for machine learning method (*Decision Tree, SVM, and Random Forest*) to do the classification directly on its server. Test these methods on the NAIP images and summarize their results\n",
        "<br>(8) __Supervised Classificatoin (client-end, XGBoost)__: See notebook *BuildingProj_XGBoost*. Based on images extracted from (6), tune and train XGboost models locally on Google Colab for classification. Analysis features to quantify effects of important features on building damage prediction\n",
        "<br>(9) __Supervised Classification (client-end, Simple Neural Network)__: See notebook *BuildingProj_NN*. Based on images extracted from (6), tune and train 5-layer neural network locally on Google Colab for classification.\n"
      ]
    },
    {
      "cell_type": "markdown",
      "metadata": {
        "id": "y5E6ssk7lDxr",
        "colab_type": "text"
      },
      "source": [
        "## Setting Up"
      ]
    },
    {
      "cell_type": "markdown",
      "metadata": {
        "id": "laoiJ3tpf9Vv",
        "colab_type": "text"
      },
      "source": [
        "In this section, connect to the Google drive and read pre-processed bounding boxes for buildings"
      ]
    },
    {
      "cell_type": "markdown",
      "metadata": {
        "id": "VidR_9pSN4di",
        "colab_type": "text"
      },
      "source": [
        "### Connect to Drive & Set Directory"
      ]
    },
    {
      "cell_type": "code",
      "metadata": {
        "id": "BF4nkBgBR5W9",
        "colab_type": "code",
        "outputId": "093d3c57-c408-43bc-96b8-8f50f85e6d18",
        "colab": {
          "base_uri": "https://localhost:8080/",
          "height": 141
        }
      },
      "source": [
        "from google.colab import drive # import drive from google colab\n",
        "ROOT = \"/content/drive\"     # default location for the drive\n",
        "print(ROOT)                 # print content of ROOT (Optional)\n",
        "\n",
        "drive.mount(ROOT)           # we mount the google drive at /content/drive"
      ],
      "execution_count": 0,
      "outputs": [
        {
          "output_type": "stream",
          "text": [
            "/content/drive\n",
            "Go to this URL in a browser: https://accounts.google.com/o/oauth2/auth?client_id=947318989803-6bn6qk8qdgf4n4g3pfee6491hc0brc4i.apps.googleusercontent.com&redirect_uri=urn%3aietf%3awg%3aoauth%3a2.0%3aoob&response_type=code&scope=email%20https%3a%2f%2fwww.googleapis.com%2fauth%2fdocs.test%20https%3a%2f%2fwww.googleapis.com%2fauth%2fdrive%20https%3a%2f%2fwww.googleapis.com%2fauth%2fdrive.photos.readonly%20https%3a%2f%2fwww.googleapis.com%2fauth%2fpeopleapi.readonly\n",
            "\n",
            "Enter your authorization code:\n",
            "··········\n",
            "Mounted at /content/drive\n"
          ],
          "name": "stdout"
        }
      ]
    },
    {
      "cell_type": "code",
      "metadata": {
        "id": "RHWwCh03SDet",
        "colab_type": "code",
        "colab": {}
      },
      "source": [
        "%cd \"/content/drive/My Drive/FinalProj\"\n",
        "%ls \"./Data/FireDataset/train\""
      ],
      "execution_count": 0,
      "outputs": []
    },
    {
      "cell_type": "markdown",
      "metadata": {
        "id": "IDkoc4k6OCkZ",
        "colab_type": "text"
      },
      "source": [
        "### Load Data"
      ]
    },
    {
      "cell_type": "code",
      "metadata": {
        "id": "tU9C-qfuVX7H",
        "colab_type": "code",
        "outputId": "b5c12449-b8ac-4d01-9d0d-a7a58d79d7a8",
        "colab": {
          "base_uri": "https://localhost:8080/",
          "height": 471
        }
      },
      "source": [
        "# install dependencies and packages \n",
        "! pip install geopandas"
      ],
      "execution_count": 0,
      "outputs": [
        {
          "output_type": "stream",
          "text": [
            "Collecting geopandas\n",
            "\u001b[?25l  Downloading https://files.pythonhosted.org/packages/83/c5/3cf9cdc39a6f2552922f79915f36b45a95b71fd343cfc51170a5b6ddb6e8/geopandas-0.7.0-py2.py3-none-any.whl (928kB)\n",
            "\u001b[K     |████████████████████████████████| 931kB 2.8MB/s \n",
            "\u001b[?25hCollecting pyproj>=2.2.0\n",
            "\u001b[?25l  Downloading https://files.pythonhosted.org/packages/e5/c3/071e080230ac4b6c64f1a2e2f9161c9737a2bc7b683d2c90b024825000c0/pyproj-2.6.1.post1-cp36-cp36m-manylinux2010_x86_64.whl (10.9MB)\n",
            "\u001b[K     |████████████████████████████████| 10.9MB 18.0MB/s \n",
            "\u001b[?25hRequirement already satisfied: pandas>=0.23.0 in /usr/local/lib/python3.6/dist-packages (from geopandas) (1.0.4)\n",
            "Requirement already satisfied: shapely in /usr/local/lib/python3.6/dist-packages (from geopandas) (1.7.0)\n",
            "Collecting fiona\n",
            "\u001b[?25l  Downloading https://files.pythonhosted.org/packages/ec/20/4e63bc5c6e62df889297b382c3ccd4a7a488b00946aaaf81a118158c6f09/Fiona-1.8.13.post1-cp36-cp36m-manylinux1_x86_64.whl (14.7MB)\n",
            "\u001b[K     |████████████████████████████████| 14.7MB 309kB/s \n",
            "\u001b[?25hRequirement already satisfied: python-dateutil>=2.6.1 in /usr/local/lib/python3.6/dist-packages (from pandas>=0.23.0->geopandas) (2.8.1)\n",
            "Requirement already satisfied: pytz>=2017.2 in /usr/local/lib/python3.6/dist-packages (from pandas>=0.23.0->geopandas) (2018.9)\n",
            "Requirement already satisfied: numpy>=1.13.3 in /usr/local/lib/python3.6/dist-packages (from pandas>=0.23.0->geopandas) (1.18.4)\n",
            "Requirement already satisfied: click<8,>=4.0 in /usr/local/lib/python3.6/dist-packages (from fiona->geopandas) (7.1.2)\n",
            "Requirement already satisfied: attrs>=17 in /usr/local/lib/python3.6/dist-packages (from fiona->geopandas) (19.3.0)\n",
            "Collecting cligj>=0.5\n",
            "  Downloading https://files.pythonhosted.org/packages/e4/be/30a58b4b0733850280d01f8bd132591b4668ed5c7046761098d665ac2174/cligj-0.5.0-py3-none-any.whl\n",
            "Requirement already satisfied: six>=1.7 in /usr/local/lib/python3.6/dist-packages (from fiona->geopandas) (1.12.0)\n",
            "Collecting click-plugins>=1.0\n",
            "  Downloading https://files.pythonhosted.org/packages/e9/da/824b92d9942f4e472702488857914bdd50f73021efea15b4cad9aca8ecef/click_plugins-1.1.1-py2.py3-none-any.whl\n",
            "Collecting munch\n",
            "  Downloading https://files.pythonhosted.org/packages/cc/ab/85d8da5c9a45e072301beb37ad7f833cd344e04c817d97e0cc75681d248f/munch-2.5.0-py2.py3-none-any.whl\n",
            "Installing collected packages: pyproj, cligj, click-plugins, munch, fiona, geopandas\n",
            "Successfully installed click-plugins-1.1.1 cligj-0.5.0 fiona-1.8.13.post1 geopandas-0.7.0 munch-2.5.0 pyproj-2.6.1.post1\n"
          ],
          "name": "stdout"
        }
      ]
    },
    {
      "cell_type": "code",
      "metadata": {
        "id": "474vsZBMUsDD",
        "colab_type": "code",
        "colab": {}
      },
      "source": [
        "import os\n",
        "import numpy as np\n",
        "import pandas as pd\n",
        "import geopandas as gpd\n",
        "import matplotlib.pyplot as plt\n",
        "import matplotlib.image as mpimg\n"
      ],
      "execution_count": 0,
      "outputs": []
    },
    {
      "cell_type": "code",
      "metadata": {
        "id": "2aTL_1kuVHIJ",
        "colab_type": "code",
        "colab": {}
      },
      "source": [
        "def lstFiles(rootPath, ext):\n",
        "  '''\n",
        "  retrieve file path + names based on extension\n",
        "  '''\n",
        "  file_list = []\n",
        "  root = rootPath\n",
        "  for path, subdirs, files in os.walk(root):\n",
        "      for names in files: \n",
        "          if names.endswith(ext) and not names.startswith(\"._\"):\n",
        "              file_list.append(path  +\"/\" + names)\n",
        "  return(file_list)"
      ],
      "execution_count": 0,
      "outputs": []
    },
    {
      "cell_type": "code",
      "metadata": {
        "id": "C29yOf7Mes3c",
        "colab_type": "code",
        "colab": {}
      },
      "source": [
        "# access training dataset (i.e. geojson, shpfiles)\n",
        "# traingeo_path = \"./Data/FireDataset/train_geo\"\n",
        "# gjsn_files = lstFiles(traingeo_path, '.geojson')\n",
        "# shp_files = lstFiles(traingeo_path, '.shp')"
      ],
      "execution_count": 0,
      "outputs": []
    },
    {
      "cell_type": "code",
      "metadata": {
        "id": "53cGx6aDh0L9",
        "colab_type": "code",
        "colab": {}
      },
      "source": [
        "merged_path = \"./Data/FireDataset/merged_shp\"\n",
        "merged_files = lstFiles(merged_path, '.shp')\n",
        "\n",
        "train_shp = merged_files[0]\n",
        "test_shp = merged_files[1]"
      ],
      "execution_count": 0,
      "outputs": []
    },
    {
      "cell_type": "code",
      "metadata": {
        "id": "RysgWND-fN3y",
        "colab_type": "code",
        "outputId": "5aa2c2cc-4e65-46e5-d7d3-96f9a2f9ac36",
        "colab": {
          "base_uri": "https://localhost:8080/",
          "height": 283
        }
      },
      "source": [
        "#get ground truth labels and check sample distributions\n",
        "gdf = gpd.read_file(merged_files[0])\n",
        "plt.bar(x=gdf.groupby('damage').count().index,height=gdf.groupby('damage').count()['ID'])"
      ],
      "execution_count": 0,
      "outputs": [
        {
          "output_type": "execute_result",
          "data": {
            "text/plain": [
              "<BarContainer object of 5 artists>"
            ]
          },
          "metadata": {
            "tags": []
          },
          "execution_count": 8
        },
        {
          "output_type": "display_data",
          "data": {
            "image/png": "[encoded data removed]",
            "text/plain": [
              "<Figure size 432x288 with 1 Axes>"
            ]
          },
          "metadata": {
            "tags": [],
            "needs_background": "light"
          }
        }
      ]
    },
    {
      "cell_type": "code",
      "metadata": {
        "id": "8TnOG_3aFDcI",
        "colab_type": "code",
        "colab": {}
      },
      "source": [
        "#convert categorical labels to int\n",
        "#gdf['dmg_code']=0\n",
        "#for value in gdf.damage.unique():\n",
        "#    if value=='no-damage':\n",
        "#        gdf.loc[gdf['damage']==value,'dmg_code']=1\n",
        "#    elif value=='minor-damage':\n",
        "#        gdf.loc[gdf['damage']==value,'dmg_code']=2\n",
        "#    elif value=='major-damage':\n",
        "#        gdf.loc[gdf['damage']==value,'dmg_code']=3\n",
        "#    elif value=='destroyed':\n",
        "#        gdf.loc[gdf['damage']==value,'dmg_code']=4\n",
        "#    else:\n",
        "#        gdf.loc[gdf['damage']==value,'dmg_code']=0"
      ],
      "execution_count": 0,
      "outputs": []
    },
    {
      "cell_type": "markdown",
      "metadata": {
        "id": "Ag6HtRJpNNWC",
        "colab_type": "text"
      },
      "source": [
        "### Connect to GEE API & Load Asset"
      ]
    },
    {
      "cell_type": "code",
      "metadata": {
        "id": "9P_WfKSZNbJ4",
        "colab_type": "code",
        "outputId": "e82355d1-f6f8-4123-e8b7-080f77c15689",
        "colab": {
          "base_uri": "https://localhost:8080/",
          "height": 263
        }
      },
      "source": [
        "# initialize and connect to GEE \n",
        "from google.colab import auth\n",
        "auth.authenticate_user()\n",
        "!earthengine authenticate\n",
        "import ee \n",
        "ee.Initialize()"
      ],
      "execution_count": 0,
      "outputs": [
        {
          "output_type": "stream",
          "text": [
            "WARNING:tensorflow:From /usr/local/lib/python3.6/dist-packages/tensorflow/python/compat/v2_compat.py:96: disable_resource_variables (from tensorflow.python.ops.variable_scope) is deprecated and will be removed in a future version.\n",
            "Instructions for updating:\n",
            "non-resource variables are not supported in the long term\n",
            "Running command using Cloud API.  Set --no-use_cloud_api to go back to using the API\n",
            "\n",
            "To authorize access needed by Earth Engine, open the following URL in a web browser and follow the instructions. If the web browser does not start automatically, please manually browse the URL below.\n",
            "\n",
            "    https://accounts.google.com/o/oauth2/auth?client_id=517222506229-vsmmajv00ul0bs7p89v5m89qs8eb9359.apps.googleusercontent.com&scope=https%3A%2F%2Fwww.googleapis.com%2Fauth%2Fearthengine+https%3A%2F%2Fwww.googleapis.com%2Fauth%2Fdevstorage.full_control&redirect_uri=urn%3Aietf%3Awg%3Aoauth%3A2.0%3Aoob&response_type=code&code_challenge=2rB74OKTljNArsPh5ozl8kgsFpWxaYzLJ2VHxqtgJtc&code_challenge_method=S256\n",
            "\n",
            "The authorization workflow will generate a code, which you should paste in the box below. \n",
            "Enter verification code: 4/0gFZ8NgMmSu7gmVPIlhvmvLSu_SrLlDsjizX6HvsDl1vhEiJolVmqvg\n",
            "\n",
            "Successfully saved authorization token.\n"
          ],
          "name": "stdout"
        }
      ]
    },
    {
      "cell_type": "code",
      "metadata": {
        "id": "OaUQbtDpNbPB",
        "colab_type": "code",
        "outputId": "26a62bdb-da15-41e6-a86d-2f422207470b",
        "colab": {
          "base_uri": "https://localhost:8080/",
          "height": 35
        }
      },
      "source": [
        "# Installs geemap package\n",
        "import subprocess\n",
        "\n",
        "try:\n",
        "    import geemap\n",
        "except ImportError:\n",
        "    print('geemap package not installed. Installing ...')\n",
        "    subprocess.check_call([\"python\", '-m', 'pip', 'install', 'geemap'])\n",
        "\n",
        "# Checks whether this notebook is running on Google Colab\n",
        "try:\n",
        "    import google.colab\n",
        "    import geemap.eefolium as emap\n",
        "except:\n",
        "    import geemap as emap"
      ],
      "execution_count": 0,
      "outputs": [
        {
          "output_type": "stream",
          "text": [
            "geemap package not installed. Installing ...\n"
          ],
          "name": "stdout"
        }
      ]
    },
    {
      "cell_type": "code",
      "metadata": {
        "id": "Omn5x960NbTD",
        "colab_type": "code",
        "outputId": "787847d6-185d-4c01-c42d-bdd1539528c9",
        "colab": {
          "base_uri": "https://localhost:8080/",
          "height": 211
        }
      },
      "source": [
        "# Connect to google cloud \n",
        "#! gcloud auth login"
      ],
      "execution_count": 0,
      "outputs": [
        {
          "output_type": "stream",
          "text": [
            "Go to the following link in your browser:\n",
            "\n",
            "    https://accounts.google.com/o/oauth2/auth?client_id=32555940559.apps.googleusercontent.com&redirect_uri=urn%3Aietf%3Awg%3Aoauth%3A2.0%3Aoob&scope=openid+https%3A%2F%2Fwww.googleapis.com%2Fauth%2Fuserinfo.email+https%3A%2F%2Fwww.googleapis.com%2Fauth%2Fcloud-platform+https%3A%2F%2Fwww.googleapis.com%2Fauth%2Fappengine.admin+https%3A%2F%2Fwww.googleapis.com%2Fauth%2Fcompute+https%3A%2F%2Fwww.googleapis.com%2Fauth%2Faccounts.reauth&code_challenge=JwelvS_s5LnRuTB_LNs7oTLmWhf2lfFX_k3iYNhbBdM&code_challenge_method=S256&access_type=offline&response_type=code&prompt=select_account\n",
            "\n",
            "\n",
            "Enter verification code: 4/0gGV2Ijf5m64FLmSlzywQ29N_WQjlh0hDbWuZq2rDwP7Rfcg4GvICXg\n",
            "\n",
            "You are now logged in as [yuhhuang@ucdavis.edu].\n",
            "Your current project is [None].  You can change this setting by running:\n",
            "  $ gcloud config set project PROJECT_ID\n"
          ],
          "name": "stdout"
        }
      ]
    },
    {
      "cell_type": "code",
      "metadata": {
        "id": "IQuCO0ICWWkc",
        "colab_type": "code",
        "colab": {}
      },
      "source": [
        "# import feature collection asset \n",
        "train_data = ee.FeatureCollection('users/yuhhuang/BuildingExtraction/XView_training')\n",
        "test_data = ee.FeatureCollection('users/yuhhuang/BuildingExtraction/XView_testing')"
      ],
      "execution_count": 0,
      "outputs": []
    },
    {
      "cell_type": "markdown",
      "metadata": {
        "id": "gpm0jmD5Cmqb",
        "colab_type": "text"
      },
      "source": [
        "## Visualize Datasets\n",
        "Interactively visualization using GEE API & leaflet"
      ]
    },
    {
      "cell_type": "markdown",
      "metadata": {
        "id": "c4exh8HqOii2",
        "colab_type": "text"
      },
      "source": [
        "### Building Geometry and Attributes\n",
        "\n",
        "Note: one building might be shown as no-damage and destroyed at the same time on map as both pre- and post- fire labels were included"
      ]
    },
    {
      "cell_type": "code",
      "metadata": {
        "id": "LPiOoT_B80RH",
        "colab_type": "code",
        "outputId": "b8941987-98b6-499c-a9e3-a030e6def863",
        "colab": {
          "base_uri": "https://localhost:8080/",
          "height": 531
        }
      },
      "source": [
        "def visualizeByAttribute(fc, className): \n",
        "  '''\n",
        "  visualize building polygon based on damage type 'class' (0,1) \n",
        "  '''   \n",
        "  empty = ee.Image().byte()\n",
        "  feature = empty.paint(**{\n",
        "    'featureCollection': fc,\n",
        "    'color': className,\n",
        "    'width': 1\n",
        "  })\n",
        "  return feature\n",
        "\n",
        "train_palette = ['black', # unclassified/Non-building (0)\n",
        "                 'blue', # no-damage (1)\n",
        "                 'green', # minor-damage(2)\n",
        "                 'yellow', # major-damage (3)\n",
        "                 'red' # destryoed (4)\n",
        "                 ]\n",
        "# test_palette = ['yellow', # no-damage(0)\n",
        "#                'blue' # destroyed (1) \n",
        "#                ]\n",
        "\n",
        "Map = emap.Map(center=[38.50178453635526,-122.74843617724784], zoom=16)\n",
        "Map.addLayer(visualizeByAttribute(train_data, 'dmg_code'), {'palette': train_palette, 'min': 0, 'max':4}, 'train')\n",
        "Map.addLayer(visualizeByAttribute(test_data, 'dmg_code'), {'palette': train_palette,'min': 0, 'max':4}, 'test')\n",
        "Map.addLayerControl()\n",
        "Map"
      ],
      "execution_count": 0,
      "outputs": [
        {
          "output_type": "execute_result",
          "data": {
            "text/html": [
              "<div style=\"width:100%;\"><div style=\"position:relative;width:100%;height:0;padding-bottom:60%;\"><span style=\"color:#565656\">Make this Notebook Trusted to load map: File -> Trust Notebook</span><iframe src=\"about:blank\" style=\"position:absolute;width:100%;height:100%;left:0;top:0;border:none !important;\" data-html=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 onload=\"this.contentDocument.open();this.contentDocument.write(atob(this.getAttribute('data-html')));this.contentDocument.close();\" allowfullscreen webkitallowfullscreen mozallowfullscreen></iframe></div></div>"
            ],
            "text/plain": [
              "<geemap.eefolium.Map at 0x7fa57ac74c50>"
            ]
          },
          "metadata": {
            "tags": []
          },
          "execution_count": 13
        }
      ]
    },
    {
      "cell_type": "markdown",
      "metadata": {
        "id": "hbJBMGCgf0ZC",
        "colab_type": "text"
      },
      "source": [
        "### Load NAIP Imagery\n",
        "- Get the geographic coordinates of polygons from local geo-dataframe variable\n",
        "- Convert geographic extent to GEE format boundary\n",
        "- filter NAIP images from the database from the converted boundary"
      ]
    },
    {
      "cell_type": "code",
      "metadata": {
        "id": "dMcaRuwAeYFe",
        "colab_type": "code",
        "colab": {}
      },
      "source": [
        "def extract_coords(geom):\n",
        "    '''\n",
        "    takes one polygon from geopandas and converts it to the GEE geometry format\n",
        "    input: geom from each row of the 'geometry' column in the gpd dataframe \n",
        "    output: coordinate list of the GEE geometry\n",
        "    '''\n",
        "    try:\n",
        "        coords=geom.__geo_interface__['coordinates']\n",
        "        geom_extr=[list(map(list,coord)) for coord in coords]\n",
        "        return geom_extr\n",
        "    except:\n",
        "        pass\n",
        "\n",
        "def get_bounds(gdf):\n",
        "    '''\n",
        "    takes a geo data frame get convert its bounding extent to a GEE format rectangle\n",
        "    '''\n",
        "    bounds=gdf.total_bounds\n",
        "    geom_bound=[[ [bounds[0],bounds[1]], [bounds[2],bounds[1]], [bounds[2],bounds[3]], [bounds[0],bounds[3]]]]\n",
        "    return geom_bound"
      ],
      "execution_count": 0,
      "outputs": []
    },
    {
      "cell_type": "code",
      "metadata": {
        "id": "IjAAOXJbf5fq",
        "colab_type": "code",
        "colab": {}
      },
      "source": [
        "#filter data by site (2 fire locations)\n",
        "gdf = gpd.read_file(train_shp)\n",
        "santaRosa = gdf[(gdf['location_n'] == 'santa-rosa-wildfire') ] \n",
        "socal = gdf[(gdf['location_n'] == 'socal-fire')]\n",
        "\n",
        "#get image bound for each site\n",
        "SR_bounds=get_bounds(santaRosa)\n",
        "SC_bounds=get_bounds(socal)"
      ],
      "execution_count": 0,
      "outputs": []
    },
    {
      "cell_type": "code",
      "metadata": {
        "id": "7Kv5OkTVf727",
        "colab_type": "code",
        "colab": {}
      },
      "source": [
        "#convert each building polygon to GEE format feature\n",
        "sr_geom=[extract_coords(pol) for pol in santaRosa['geometry']]\n",
        "SR_ROI = ee.Geometry.MultiPolygon(sr_geom)\n",
        "SR_Bound_Box=ee.Geometry.Polygon(SR_bounds)\n",
        "\n",
        "sc_geom=[extract_coords(pol) for pol in socal['geometry']]\n",
        "SC_ROI = ee.Geometry.MultiPolygon(sc_geom)\n",
        "SC_Bound_Box=ee.Geometry.Polygon(SC_bounds)"
      ],
      "execution_count": 0,
      "outputs": []
    },
    {
      "cell_type": "code",
      "metadata": {
        "id": "jOTd4N21tLtk",
        "colab_type": "code",
        "colab": {}
      },
      "source": [
        "# combine the bounding boxes from above into feature collection\n",
        "features = [\n",
        "  ee.Feature(SC_Bound_Box),\n",
        "  ee.Feature(SR_Bound_Box)\n",
        "]\n",
        "\n",
        "finalBounds = ee.FeatureCollection(features);"
      ],
      "execution_count": 0,
      "outputs": []
    },
    {
      "cell_type": "code",
      "metadata": {
        "id": "YDygMnsUgBGg",
        "colab_type": "code",
        "colab": {}
      },
      "source": [
        "#get pre- and post- fire images by geographic polygons\n",
        "preFire = ee.Image(ee.ImageCollection('USDA/NAIP/DOQQ')\n",
        "                  .filter(ee.Filter.date('2014-01-01', '2015-12-31'))\n",
        "                  .select(['R', 'G', 'B', 'N'])\n",
        "                  .filterBounds(finalBounds)\n",
        "                  .mosaic());\n",
        "                  \n",
        "postFire = ee.Image(ee.ImageCollection('USDA/NAIP/DOQQ')\n",
        "                  .filter(ee.Filter.date('2017-01-01', '2019-12-31'))\n",
        "                  .select(['R', 'G', 'B', 'N'])\n",
        "                  .filterBounds(finalBounds)\n",
        "                  .mosaic());\n",
        "\n",
        "preFire = preFire.clip(finalBounds)\n",
        "postFire = postFire.clip(finalBounds)\n",
        "\n",
        "trueColorVis = {\n",
        "  min: 0.0,\n",
        "  max: 255.0,\n",
        "}"
      ],
      "execution_count": 0,
      "outputs": []
    },
    {
      "cell_type": "code",
      "metadata": {
        "id": "OoTGnbSsgWJs",
        "colab_type": "code",
        "outputId": "0eb08021-dde8-4d6b-e396-009399522783",
        "colab": {
          "base_uri": "https://localhost:8080/",
          "height": 531
        }
      },
      "source": [
        "# visualize santa rosa building dataset overlaid on NAIP\n",
        "Map = emap.Map(center=[38.4815,-122.7084], zoom=11)\n",
        "Map.add_basemap('TERRAIN')\n",
        "Map.addLayer(preFire.select(['R', 'G', 'B']), trueColorVis, 'PreFire')\n",
        "Map.addLayer(postFire.select(['R', 'G', 'B']), trueColorVis, 'Postfire')\n",
        "Map.addLayer(finalBounds, {'color': 'white'}, 'bound', True, opacity=0.4)\n",
        "Map.addLayer(visualizeByAttribute(train_data, 'dmg_code'), {'palette': train_palette, 'min': 0, 'max':4}, 'train')\n",
        "Map.addLayer(visualizeByAttribute(test_data, 'dmg_code'), {'palette': train_palette,'min': 0, 'max':4}, 'test')\n",
        "Map.addLayerControl()\n",
        "Map"
      ],
      "execution_count": 0,
      "outputs": [
        {
          "output_type": "execute_result",
          "data": {
            "text/html": [
              "<div style=\"width:100%;\"><div style=\"position:relative;width:100%;height:0;padding-bottom:60%;\"><span style=\"color:#565656\">Make this Notebook Trusted to load map: File -> Trust Notebook</span><iframe src=\"about:blank\" style=\"position:absolute;width:100%;height:100%;left:0;top:0;border:none !important;\" data-html=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 onload=\"this.contentDocument.open();this.contentDocument.write(atob(this.getAttribute('data-html')));this.contentDocument.close();\" allowfullscreen webkitallowfullscreen mozallowfullscreen></iframe></div></div>"
            ],
            "text/plain": [
              "<geemap.eefolium.Map at 0x7fa57ad0ea90>"
            ]
          },
          "metadata": {
            "tags": []
          },
          "execution_count": 19
        }
      ]
    },
    {
      "cell_type": "code",
      "metadata": {
        "id": "ajfUGvg9jB5q",
        "colab_type": "code",
        "outputId": "e507d696-e980-4dad-c374-e45f4742fbb4",
        "colab": {
          "base_uri": "https://localhost:8080/",
          "height": 531
        }
      },
      "source": [
        "# visualize socal building dataset overlaid on NAIP\n",
        "Map = emap.Map(center=[34.0922,-118.8058], zoom=11)\n",
        "Map.add_basemap('TERRAIN')\n",
        "Map.addLayer(preFire, trueColorVis, 'PreFire');\n",
        "Map.addLayer(postFire, trueColorVis, 'Postfire');\n",
        "Map.addLayer(finalBounds, {'color': 'white'}, 'Postfire', True, opacity = 0.8);\n",
        "Map.addLayer(visualizeByAttribute(train_data, 'dmg_code'), {'palette': train_palette, 'min': 0, 'max':4}, 'train')\n",
        "Map.addLayer(visualizeByAttribute(test_data, 'dmg_code'), {'palette': train_palette,'min': 0, 'max':4}, 'test')\n",
        "Map.addLayerControl()\n",
        "Map"
      ],
      "execution_count": 0,
      "outputs": [
        {
          "output_type": "execute_result",
          "data": {
            "text/html": [
              "<div style=\"width:100%;\"><div style=\"position:relative;width:100%;height:0;padding-bottom:60%;\"><span style=\"color:#565656\">Make this Notebook Trusted to load map: File -> Trust Notebook</span><iframe src=\"about:blank\" style=\"position:absolute;width:100%;height:100%;left:0;top:0;border:none !important;\" data-html=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 onload=\"this.contentDocument.open();this.contentDocument.write(atob(this.getAttribute('data-html')));this.contentDocument.close();\" allowfullscreen webkitallowfullscreen mozallowfullscreen></iframe></div></div>"
            ],
            "text/plain": [
              "<geemap.eefolium.Map at 0x7fa57acea550>"
            ]
          },
          "metadata": {
            "tags": []
          },
          "execution_count": 21
        }
      ]
    },
    {
      "cell_type": "markdown",
      "metadata": {
        "id": "JsOB0TIgWIVq",
        "colab_type": "text"
      },
      "source": [
        "## Feature Calculation\n",
        "\n",
        "__Remote Sensing Indices:__\n",
        "\n",
        "NDVI: (NIR-R)/(NIR+R)\n",
        "\n",
        "Bare Soil Index: (R+B-G)/(R+G+B)\n",
        "\n",
        "Shadow Index: $\\sqrt {(256-B)*(256-G)}$\n",
        "\n",
        "__Texture Information:__\n",
        "\n",
        " GLCM and spatial association of neighborhood\n",
        "\n",
        "__Convolutional Filters:__\n",
        "\n",
        "Canny edge detection, shape-sensitive filters, and some other convolutional filters"
      ]
    },
    {
      "cell_type": "markdown",
      "metadata": {
        "id": "gvBtF2Y7gwmP",
        "colab_type": "text"
      },
      "source": [
        "###NDVI"
      ]
    },
    {
      "cell_type": "code",
      "metadata": {
        "id": "drQUhnMrWNqa",
        "colab_type": "code",
        "outputId": "31e101e3-e077-4632-e840-c5d4cd909f1c",
        "colab": {
          "base_uri": "https://localhost:8080/",
          "height": 35
        }
      },
      "source": [
        "def getNDVI(image):\n",
        "  '''\n",
        "  Add Normalized Differenced Vegetation Index using NIR and Red bands\n",
        "  '''\n",
        "  nir = image.select('N')\n",
        "  red = image.select('R')\n",
        "  ndvi = nir.subtract(red).divide(nir.add(red)).rename('NDVI')\n",
        "  new_image = image.addBands(ndvi)\n",
        "  return new_image\n",
        "\n",
        "preFire = getNDVI(preFire)\n",
        "postFire = getNDVI(postFire)\n",
        "print(preFire.bandNames().getInfo())"
      ],
      "execution_count": 0,
      "outputs": [
        {
          "output_type": "stream",
          "text": [
            "['R', 'G', 'B', 'N', 'NDVI']\n"
          ],
          "name": "stdout"
        }
      ]
    },
    {
      "cell_type": "markdown",
      "metadata": {
        "id": "fjmPvRbigy7m",
        "colab_type": "text"
      },
      "source": [
        "### Edge Detection\n",
        "to extract structural information from different vision objects and dramatically reduce the amount of data to be processed."
      ]
    },
    {
      "cell_type": "code",
      "metadata": {
        "id": "DwxEMDN8WXmw",
        "colab_type": "code",
        "outputId": "1a38766a-8069-4db1-d585-a3f094ffc8c4",
        "colab": {
          "base_uri": "https://localhost:8080/",
          "height": 35
        }
      },
      "source": [
        "def edgeDetection(image, band):\n",
        "  '''\n",
        "  Perform Canny edge detection and add to image.\n",
        "  '''\n",
        "  canny = ee.Algorithms.CannyEdgeDetector(**{\n",
        "    'image': image.select(band), 'threshold': 50, 'sigma': 1\n",
        "  })\n",
        "  new_image = image.addBands(canny.rename('edge'))\n",
        "  return new_image\n",
        "\n",
        "\n",
        "preFire = edgeDetection(preFire, 'R')\n",
        "postFire = edgeDetection(postFire, 'R')\n",
        "print(preFire.bandNames().getInfo())\n"
      ],
      "execution_count": 0,
      "outputs": [
        {
          "output_type": "stream",
          "text": [
            "['R', 'G', 'B', 'N', 'NDVI', 'edge']\n"
          ],
          "name": "stdout"
        }
      ]
    },
    {
      "cell_type": "markdown",
      "metadata": {
        "id": "kPXPkqMHg3io",
        "colab_type": "text"
      },
      "source": [
        "### Bare Soil Index (BSI)"
      ]
    },
    {
      "cell_type": "code",
      "metadata": {
        "id": "JDpc2J9JfkK8",
        "colab_type": "code",
        "outputId": "d07f1631-9cac-41c0-f80a-ac7a2596d12a",
        "colab": {
          "base_uri": "https://localhost:8080/",
          "height": 35
        }
      },
      "source": [
        "def bareSoil(image):\n",
        "  '''\n",
        "  Add Bare Soil Index Index using the Red, Blue, and Green bands\n",
        "  '''\n",
        "  red = image.select('R')\n",
        "  blue = image.select('B')\n",
        "  green = image.select('G')\n",
        "  BSI = red.add(blue).subtract(green).divide(red.add(blue).add(green)).rename('BSI')\n",
        "  new_image = image.addBands(BSI)\n",
        "  return new_image\n",
        "\n",
        "preFire = bareSoil(preFire)\n",
        "postFire = bareSoil(postFire)\n",
        "print(preFire.bandNames().getInfo())"
      ],
      "execution_count": 0,
      "outputs": [
        {
          "output_type": "stream",
          "text": [
            "['R', 'G', 'B', 'N', 'NDVI', 'edge', 'BSI']\n"
          ],
          "name": "stdout"
        }
      ]
    },
    {
      "cell_type": "markdown",
      "metadata": {
        "id": "Q-XrQNeWhqEz",
        "colab_type": "text"
      },
      "source": [
        "### Shadow Index"
      ]
    },
    {
      "cell_type": "code",
      "metadata": {
        "id": "b9_lntEQikdK",
        "colab_type": "code",
        "outputId": "9983a012-fe4f-4e78-95b2-c5bcdff28b79",
        "colab": {
          "base_uri": "https://localhost:8080/",
          "height": 35
        }
      },
      "source": [
        "def shadowIndex(image):\n",
        "  '''\n",
        "  Add Shadow Index using Blue and Green bands\n",
        "  '''\n",
        "  SI = image.expression(\n",
        "      'sqrt((2.56 - B) * (2.56 - G))', {\n",
        "        'B': image.select('B'),\n",
        "        'G': image.select('G')\n",
        "  }).rename('SI');\n",
        "  new_image = image.addBands(SI)\n",
        "  return new_image\n",
        "\n",
        "preFire = shadowIndex(preFire)\n",
        "postFire = shadowIndex(postFire)\n",
        "print(preFire.bandNames().getInfo())"
      ],
      "execution_count": 0,
      "outputs": [
        {
          "output_type": "stream",
          "text": [
            "['R', 'G', 'B', 'N', 'NDVI', 'edge', 'BSI', 'SI']\n"
          ],
          "name": "stdout"
        }
      ]
    },
    {
      "cell_type": "markdown",
      "metadata": {
        "id": "w9OQYQ7obT1j",
        "colab_type": "text"
      },
      "source": [
        "### Texture\n",
        "1) measure spatial association of neighborhood\n",
        "2) calculate gray-level co-occurrence matrix (GLCM)\n"
      ]
    },
    {
      "cell_type": "markdown",
      "metadata": {
        "id": "WTmY-ya7q0tz",
        "colab_type": "text"
      },
      "source": [
        "GLCM Texture list (selection in bold):\n",
        "- Angular Second Moment: # of repeated pairs\n",
        "- **Contrast**: local contrast \n",
        "- **Correlation**: correlation between pairs of pixels \n",
        "- **Variance**: spreat-out of the Grayscale \n",
        "-**Inverse Difference Moment**: homogeneity\n",
        "- sum average\n",
        "- sum variance\n",
        "- sum entropy\n",
        "- entropy: randomness of the grayscale\n",
        "- difference variance\n",
        "- difference entropy\n",
        "- information measure of correlation 1, 2 , and Max Corr. Coefficient.\n",
        "- **dissimilarity**\n",
        "- inertia\n",
        "- **cluster shade**\n",
        "- cluster prominence"
      ]
    },
    {
      "cell_type": "code",
      "metadata": {
        "id": "On9ogettbVfZ",
        "colab_type": "code",
        "outputId": "fb714105-6326-4e5a-a74a-9cef4e0b2ab9",
        "colab": {
          "base_uri": "https://localhost:8080/",
          "height": 55
        }
      },
      "source": [
        "import math\n",
        "\n",
        "def association(image):\n",
        "  ''' \n",
        "  Get association values with NIR band. \n",
        "  (1) compute entropy w. defined neighborhood\n",
        "  (2) local Geary's C, measure of spatial association\n",
        "  '''\n",
        "  # Get the NIR band.\n",
        "  nir = image.select('N')\n",
        "  # Define a neighborhood with a kernel.\n",
        "  square = ee.Kernel.square(**{'radius': 4})\n",
        "  # Compute entropy and display.\n",
        "  entropy = nir.entropy(square)\n",
        "  # Create a list of weights for a 9x9 kernel.\n",
        "  list = [1, 1, 1, 1, 1, 1, 1, 1, 1]\n",
        "  # The center of the kernel is zero.\n",
        "  centerList = [1, 1, 1, 1, 0, 1, 1, 1, 1]\n",
        "  # Assemble a list of lists: the 9x9 kernel weights as a 2-D matrix.\n",
        "  lists = [list, list, list, list, centerList, list, list, list, list]\n",
        "  # Create the kernel from the weights.\n",
        "  # Non-zero weights represent the spatial neighborhood.\n",
        "  kernel = ee.Kernel.fixed(9, 9, lists, -4, -4, False)\n",
        "\n",
        "  # Convert the neighborhood into multiple bands.\n",
        "  neighs = nir.neighborhoodToBands(kernel)\n",
        "\n",
        "  # Compute local Geary's C, a measure of spatial association.\n",
        "  gearys = nir.subtract(neighs).pow(2).reduce(ee.Reducer.sum()) \\\n",
        "             .divide(math.pow(9, 2)).rename('texture');\n",
        "  new_image = image.addBands(gearys)\n",
        "  return new_image\n",
        "\n",
        "\n",
        "def glcm_texture(image):\n",
        "    '''\n",
        "    calculate GLCM for each spectral band (contrast and variance only for NIR and Red band)\n",
        "    '''\n",
        "    #average all the directional bands\n",
        "    #consider a neighborhood of 4 pixels\n",
        "    texture_img=image.select(['R','G','B','N']).glcmTexture(size=4,average=True)\n",
        "    #select some useful textures :\n",
        "    selection=['R_contrast','N_contrast','R_corr','G_corr','B_corr','N_corr','R_var','N_var',\n",
        "               'R_idm','G_idm','B_idm','N_idm','R_diss','N_diss','R_shade','G_shade','B_shade','N_shade']\n",
        "    new_image = image.addBands(texture_img.select(selection))\n",
        "    return new_image\n",
        "\n",
        "preFire = association(preFire)\n",
        "preFire = glcm_texture(preFire)\n",
        "postFire = association(postFire)\n",
        "postFire = glcm_texture(postFire)\n",
        "print(preFire.bandNames().getInfo())"
      ],
      "execution_count": 0,
      "outputs": [
        {
          "output_type": "stream",
          "text": [
            "['R', 'G', 'B', 'N', 'NDVI', 'edge', 'BSI', 'SI', 'texture', 'R_contrast', 'N_contrast', 'R_corr', 'G_corr', 'B_corr', 'N_corr', 'R_var', 'N_var', 'R_idm', 'G_idm', 'B_idm', 'N_idm', 'R_diss', 'N_diss', 'R_shade', 'G_shade', 'B_shade', 'N_shade']\n"
          ],
          "name": "stdout"
        }
      ]
    },
    {
      "cell_type": "markdown",
      "metadata": {
        "id": "NWx79mRFsLA8",
        "colab_type": "text"
      },
      "source": [
        "### Other selected convolutional filters \n",
        "(tuned with best visual performance)\n",
        "- low-pass convolutional filter (Gaussian)\n",
        "- high-pass filter and gradient (has been represented by canny edge detection above)\n",
        "- shape-sensitive filter (rectangle, octagon)\n",
        "- manhattan kernel based on rectilinear (city-block) distance"
      ]
    },
    {
      "cell_type": "code",
      "metadata": {
        "id": "QQbGyxtMsGiE",
        "colab_type": "code",
        "outputId": "04a6c350-f6ba-47a6-f30e-15a722005b0c",
        "colab": {
          "base_uri": "https://localhost:8080/",
          "height": 55
        }
      },
      "source": [
        "def conv_filter(image):\n",
        "    '''\n",
        "    apply gaussian, octagon, and mangattan convolutional filters to the image\n",
        "    '''\n",
        "    #define filters\n",
        "    #Gaussian\n",
        "    gauss=ee.Kernel.gaussian(radius=7, sigma=2, units='pixels', normalize=True)\n",
        "    # #define a 19 by 11 rectangle low pass filter\n",
        "    # low_pass_rect1 = ee.Kernel.rectangle(xRadius=9,yRadius=5, units='pixels', normalize=True);\n",
        "    # #the opposite way\n",
        "    # low_pass_rect2 = ee.Kernel.rectangle(xRadius=5,yRadius=9, units='pixels', normalize=True);\n",
        "    #octagon\n",
        "    low_oct = ee.Kernel.octagon(radius=5, units='pixels', normalize=True);\n",
        "    #manhattan\n",
        "    manha=ee.Kernel.manhattan(radius=4, units='pixels', normalize=True)\n",
        "    new_image=image\n",
        "    filt_dict={'gauss':gauss,'low_oct':low_oct,'manha':manha}\n",
        "    for name,filt in filt_dict.items():\n",
        "        smooth=image.select(['R','G','B','N']).convolve(filt).rename(['R_'+name,'G_'+name,'B_'+name,'N_'+name])\n",
        "        new_image = new_image.addBands(smooth)\n",
        "    return new_image\n",
        "\n",
        "preFire = conv_filter(preFire)\n",
        "postFire = conv_filter(postFire)\n",
        "print(preFire.bandNames().getInfo())"
      ],
      "execution_count": 0,
      "outputs": [
        {
          "output_type": "stream",
          "text": [
            "['R', 'G', 'B', 'N', 'NDVI', 'edge', 'BSI', 'SI', 'texture', 'R_contrast', 'N_contrast', 'R_corr', 'G_corr', 'B_corr', 'N_corr', 'R_var', 'N_var', 'R_idm', 'G_idm', 'B_idm', 'N_idm', 'R_diss', 'N_diss', 'R_shade', 'G_shade', 'B_shade', 'N_shade', 'R_gauss', 'G_gauss', 'B_gauss', 'N_gauss', 'R_low_oct', 'G_low_oct', 'B_low_oct', 'N_low_oct', 'R_manha', 'G_manha', 'B_manha', 'N_manha']\n"
          ],
          "name": "stdout"
        }
      ]
    },
    {
      "cell_type": "markdown",
      "metadata": {
        "id": "u4mXrDw0eRc5",
        "colab_type": "text"
      },
      "source": [
        "### Visualize Some Features"
      ]
    },
    {
      "cell_type": "code",
      "metadata": {
        "id": "GOfkYQwdkK3O",
        "colab_type": "code",
        "outputId": "fc520184-06dd-4719-e3d9-41537e076d6d",
        "colab": {
          "base_uri": "https://localhost:8080/",
          "height": 531
        }
      },
      "source": [
        "siViz = {'min': 0, 'max': 100, 'palette': ['ffff00', '330033']}\n",
        "bsiViz = {'min': 0.0, 'max': 0.3, 'palette': ['7fffd4', 'b99879']}\n",
        "ndviViz = {'min': -0.5, 'max': 0.5, 'palette': ['cc8e7f', '268b07']}\n",
        "texViz = {'min': 0, 'max': 4000, 'palette': ['fe6b73', '7fffd4']}\n",
        "\n",
        "Map = emap.Map(center=[38.50178453635526,-122.74843617724784], zoom=16)\n",
        "Map.addLayer(preFire.select(['R', 'G', 'B']), trueColorVis, 'preFire')\n",
        "Map.addLayer(preFire.select(['NDVI']),ndviViz, 'NDVI')\n",
        "Map.addLayer(preFire.select(['SI']),siViz, 'SI')\n",
        "Map.addLayer(preFire.select(['edge']),'', 'Canny')\n",
        "Map.addLayer(preFire.select(['BSI']),bsiViz, 'BSI')\n",
        "Map.addLayer(preFire.select(['texture']),texViz, 'texture')\n",
        "Map.addLayer(postFire.select('B_corr'), {'palette': ['cc8e7f', '268b07']}, 'corB')\n",
        "Map.addLayer(postFire.select('R_corr'), {'palette': ['cc8e7f', '268b07']}, 'corR')\n",
        "Map.addLayer(postFire.select('G_shade'), {'palette': ['cc8e7f', '268b07']}, 'shadeG')\n",
        "Map.addLayer(postFire.select('N_shade'), {'palette': ['cc8e7f', '268b07']}, 'shadeN')\n",
        "Map.addLayer(train_data, {'color': 'yellow'}, 'training')\n",
        "Map.addLayer(test_data, {'color': 'blue'}, 'testing')\n",
        "Map.addLayerControl()\n",
        "Map"
      ],
      "execution_count": 0,
      "outputs": [
        {
          "output_type": "execute_result",
          "data": {
            "text/html": [
              "<div style=\"width:100%;\"><div style=\"position:relative;width:100%;height:0;padding-bottom:60%;\"><span style=\"color:#565656\">Make this Notebook Trusted to load map: File -> Trust Notebook</span><iframe src=\"about:blank\" style=\"position:absolute;width:100%;height:100%;left:0;top:0;border:none !important;\" data-html=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 onload=\"this.contentDocument.open();this.contentDocument.write(atob(this.getAttribute('data-html')));this.contentDocument.close();\" allowfullscreen webkitallowfullscreen mozallowfullscreen></iframe></div></div>"
            ],
            "text/plain": [
              "<geemap.eefolium.Map at 0x7fa57ad6ccf8>"
            ]
          },
          "metadata": {
            "tags": []
          },
          "execution_count": 28
        }
      ]
    },
    {
      "cell_type": "markdown",
      "metadata": {
        "id": "VxN9gDRal2Xu",
        "colab_type": "text"
      },
      "source": [
        "## Unsupervised Clustering Features"
      ]
    },
    {
      "cell_type": "markdown",
      "metadata": {
        "id": "Km4mUDhcnmDx",
        "colab_type": "text"
      },
      "source": [
        "### KMeans Clustering"
      ]
    },
    {
      "cell_type": "code",
      "metadata": {
        "id": "ZMUCqv-2l6QV",
        "colab_type": "code",
        "colab": {}
      },
      "source": [
        "# Make the training dataset.\n",
        "training = postFire.sample(**{\n",
        "  'region': finalBounds,\n",
        "  'scale': 10,\n",
        "  'numPixels': 5000\n",
        "})\n",
        "\n",
        "# Instantiate the clusterer and train it.\n",
        "clusterer = ee.Clusterer.wekaKMeans(15).train(training)\n",
        "\n",
        "# Cluster the input using the trained clusterer.\n",
        "preFire_result = preFire.cluster(clusterer).rename('KMeans')\n",
        "postFire_result = postFire.cluster(clusterer).rename('KMeans')"
      ],
      "execution_count": 0,
      "outputs": []
    },
    {
      "cell_type": "code",
      "metadata": {
        "id": "DnWiolp6jwpn",
        "colab_type": "code",
        "outputId": "f4579fd9-262d-4353-f450-ef776996db17",
        "colab": {
          "base_uri": "https://localhost:8080/",
          "height": 55
        }
      },
      "source": [
        "# add KMeans clustering \n",
        "postFire = postFire.addBands(postFire_result)\n",
        "preFire = preFire.addBands(preFire_result)\n",
        "print(postFire.bandNames().getInfo())"
      ],
      "execution_count": 0,
      "outputs": [
        {
          "output_type": "stream",
          "text": [
            "['R', 'G', 'B', 'N', 'NDVI', 'edge', 'BSI', 'SI', 'texture', 'R_contrast', 'N_contrast', 'R_corr', 'G_corr', 'B_corr', 'N_corr', 'R_var', 'N_var', 'R_idm', 'G_idm', 'B_idm', 'N_idm', 'R_diss', 'N_diss', 'R_shade', 'G_shade', 'B_shade', 'N_shade', 'R_gauss', 'G_gauss', 'B_gauss', 'N_gauss', 'R_low_oct', 'G_low_oct', 'B_low_oct', 'N_low_oct', 'R_manha', 'G_manha', 'B_manha', 'N_manha', 'KMeans']\n"
          ],
          "name": "stdout"
        }
      ]
    },
    {
      "cell_type": "code",
      "metadata": {
        "id": "-S_SUpHS2MIE",
        "colab_type": "code",
        "outputId": "c54e28cf-b766-400b-990b-3c1168f03fd5",
        "colab": {
          "base_uri": "https://localhost:8080/",
          "height": 531
        }
      },
      "source": [
        "Map = emap.Map(center=[38.50178453635526,-122.74843617724784], zoom=19)\n",
        "Map.addLayer(preFire.select(['R', 'G', 'B']), trueColorVis, 'preFire')\n",
        "Map.addLayer(postFire.select(['R', 'G', 'B']), trueColorVis, 'postFire')\n",
        "Map.addLayer(postFire_result.randomVisualizer(),'', 'postFire_Kmeans',opacity=0.6)\n",
        "Map.addLayer(preFire_result.randomVisualizer(),'', 'preFire_Kmeans', opacity=0.6)\n",
        "Map.addLayer(train_data, {'color': 'yellow'}, 'training',opacity=0.4)\n",
        "Map.addLayer(test_data, {'color': 'blue'}, 'testing',opacity=0.4)\n",
        "Map.addLayerControl()\n",
        "Map"
      ],
      "execution_count": 0,
      "outputs": [
        {
          "output_type": "execute_result",
          "data": {
            "text/html": [
              "<div style=\"width:100%;\"><div style=\"position:relative;width:100%;height:0;padding-bottom:60%;\"><span style=\"color:#565656\">Make this Notebook Trusted to load map: File -> Trust Notebook</span><iframe src=\"about:blank\" style=\"position:absolute;width:100%;height:100%;left:0;top:0;border:none !important;\" data-html=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 onload=\"this.contentDocument.open();this.contentDocument.write(atob(this.getAttribute('data-html')));this.contentDocument.close();\" allowfullscreen webkitallowfullscreen mozallowfullscreen></iframe></div></div>"
            ],
            "text/plain": [
              "<geemap.eefolium.Map at 0x7fa57ad66940>"
            ]
          },
          "metadata": {
            "tags": []
          },
          "execution_count": 30
        }
      ]
    },
    {
      "cell_type": "markdown",
      "metadata": {
        "id": "9DnShWw0xhBa",
        "colab_type": "text"
      },
      "source": [
        "__Feature Description__\n",
        "<br> Buildings seem to be assigned as the same clusters from a simple k-means clustering method. For postfire clusters, there are also showing the tendencying of classifying one building into several several different components, possibly due to the partial damage from the postfire image."
      ]
    },
    {
      "cell_type": "markdown",
      "metadata": {
        "id": "3RCUTKxpf4dS",
        "colab_type": "text"
      },
      "source": [
        "###Learning Vector Quantization (LVQ) Clustering"
      ]
    },
    {
      "cell_type": "code",
      "metadata": {
        "id": "st0Q7lAgf811",
        "colab_type": "code",
        "colab": {}
      },
      "source": [
        "# Make the training dataset.\n",
        "training = postFire.select(['R','G','B','N','NDVI','BSI','SI','edge','texture']).sample(**{\n",
        "  'region': finalBounds,\n",
        "  'scale': 10,\n",
        "  'numPixels': 5000\n",
        "})\n",
        "\n",
        "# Instantiate the clusterer and train it.\n",
        "clusterer = ee.Clusterer.wekaLVQ(15).train(training)\n",
        "\n",
        "# Cluster the input using the trained clusterer.\n",
        "preFire_result = preFire.select(['R','G','B','N','NDVI','BSI','SI','edge','texture']).cluster(clusterer).rename('LVQ')\n",
        "postFire_result = postFire.select(['R','G','B','N','NDVI','BSI','SI','edge','texture']).cluster(clusterer).rename('LVQ')"
      ],
      "execution_count": 0,
      "outputs": []
    },
    {
      "cell_type": "code",
      "metadata": {
        "id": "tPK144J5hzeg",
        "colab_type": "code",
        "outputId": "d639c655-79cf-43dd-f567-b279c34fcaed",
        "colab": {
          "base_uri": "https://localhost:8080/",
          "height": 55
        }
      },
      "source": [
        "# add layer\n",
        "postFire = postFire.addBands(postFire_result)\n",
        "preFire = preFire.addBands(preFire_result)\n",
        "print(postFire.bandNames().getInfo())"
      ],
      "execution_count": 0,
      "outputs": [
        {
          "output_type": "stream",
          "text": [
            "['R', 'G', 'B', 'N', 'NDVI', 'edge', 'BSI', 'SI', 'texture', 'R_contrast', 'N_contrast', 'R_corr', 'G_corr', 'B_corr', 'N_corr', 'R_var', 'N_var', 'R_idm', 'G_idm', 'B_idm', 'N_idm', 'R_diss', 'N_diss', 'R_shade', 'G_shade', 'B_shade', 'N_shade', 'R_gauss', 'G_gauss', 'B_gauss', 'N_gauss', 'R_low_oct', 'G_low_oct', 'B_low_oct', 'N_low_oct', 'R_manha', 'G_manha', 'B_manha', 'N_manha', 'KMeans', 'KMeans_Seg', 'SNIC', 'LVQ']\n"
          ],
          "name": "stdout"
        }
      ]
    },
    {
      "cell_type": "code",
      "metadata": {
        "id": "cBnTv1vHf86h",
        "colab_type": "code",
        "outputId": "b1287e6e-9c0c-4dd6-d1f8-3a1ec4801960",
        "colab": {
          "base_uri": "https://localhost:8080/",
          "height": 531
        }
      },
      "source": [
        "Map = emap.Map(center=[38.50178453635526,-122.74843617724784], zoom=18)\n",
        "Map.addLayer(postFire.select(['R', 'G', 'B']), trueColorVis, 'postFire')\n",
        "Map.addLayer(postFire_result.randomVisualizer(),'', 'postFire_LVQ',opacity=0.6)\n",
        "Map.addLayer(preFire_result.randomVisualizer(),'', 'preFire_LVQ', opacity=0.6)\n",
        "#Map.addLayer(train_data, {'color': 'yellow'}, 'training',opacity=0.4)\n",
        "#Map.addLayer(test_data, {'color': 'blue'}, 'testing',opacity=0.4)\n",
        "Map.addLayer(visualizeByAttribute(train_data, 'dmg_code'), {'palette': train_palette, 'min': 0, 'max':4}, 'train')\n",
        "Map.addLayer(visualizeByAttribute(test_data, 'dmg_code'), {'palette': train_palette,'min': 0, 'max':4}, 'test')\n",
        "Map.addLayerControl()\n",
        "Map"
      ],
      "execution_count": 0,
      "outputs": [
        {
          "output_type": "execute_result",
          "data": {
            "text/html": [
              "<div style=\"width:100%;\"><div style=\"position:relative;width:100%;height:0;padding-bottom:60%;\"><span style=\"color:#565656\">Make this Notebook Trusted to load map: File -> Trust Notebook</span><iframe src=\"about:blank\" style=\"position:absolute;width:100%;height:100%;left:0;top:0;border:none !important;\" data-html=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 onload=\"this.contentDocument.open();this.contentDocument.write(atob(this.getAttribute('data-html')));this.contentDocument.close();\" allowfullscreen webkitallowfullscreen mozallowfullscreen></iframe></div></div>"
            ],
            "text/plain": [
              "<geemap.eefolium.Map at 0x7fa57ae0f3c8>"
            ]
          },
          "metadata": {
            "tags": []
          },
          "execution_count": 45
        }
      ]
    },
    {
      "cell_type": "markdown",
      "metadata": {
        "id": "vBv06EsYBxPc",
        "colab_type": "text"
      },
      "source": [
        "__Feature Description__\n",
        "<br>For LVQ, it seems mainly grouping those non-building areas into different clusters. Although in this way, some building can be easily identified, it has a large problem of combining building, road, and all other impervious surfaces together as one large cluster"
      ]
    },
    {
      "cell_type": "markdown",
      "metadata": {
        "id": "oBXeSd0roc7J",
        "colab_type": "text"
      },
      "source": [
        "###  KMeans Segmentation\n",
        "\n",
        "Performs K-Means clustering on the input image. Outputs a 1-band image containing the ID of the cluster that each pixel belongs to.\n",
        "\n"
      ]
    },
    {
      "cell_type": "code",
      "metadata": {
        "id": "kxY1vI40KxNR",
        "colab_type": "code",
        "colab": {}
      },
      "source": [
        "pre_kmeans = ee.Algorithms.Image.Segmentation.KMeans(preFire, 15, 1000, 20, 0, False, False)\n",
        "pre_clusters = pre_kmeans.select('clusters').rename('KMeans_Seg')\n",
        "\n",
        "post_kmeans = ee.Algorithms.Image.Segmentation.KMeans(postFire, 15, 1000, 20,0, False, False)\n",
        "post_clusters = post_kmeans.select('clusters').rename('KMeans_Seg')"
      ],
      "execution_count": 0,
      "outputs": []
    },
    {
      "cell_type": "code",
      "metadata": {
        "id": "KlsFSu8Ok7l1",
        "colab_type": "code",
        "outputId": "8debd1ab-f802-4bd1-9d41-10c6bc8aa485",
        "colab": {
          "base_uri": "https://localhost:8080/",
          "height": 55
        }
      },
      "source": [
        "# add layer\n",
        "postFire = postFire.addBands(post_clusters)\n",
        "preFire = preFire.addBands(pre_clusters)\n",
        "print(preFire.bandNames().getInfo())"
      ],
      "execution_count": 0,
      "outputs": [
        {
          "output_type": "stream",
          "text": [
            "['R', 'G', 'B', 'N', 'NDVI', 'edge', 'BSI', 'SI', 'texture', 'R_contrast', 'N_contrast', 'R_corr', 'G_corr', 'B_corr', 'N_corr', 'R_var', 'N_var', 'R_idm', 'G_idm', 'B_idm', 'N_idm', 'R_diss', 'N_diss', 'R_shade', 'G_shade', 'B_shade', 'N_shade', 'R_gauss', 'G_gauss', 'B_gauss', 'N_gauss', 'R_low_oct', 'G_low_oct', 'B_low_oct', 'N_low_oct', 'R_manha', 'G_manha', 'B_manha', 'N_manha', 'KMeans', 'LVQ', 'KMeans_Seg']\n"
          ],
          "name": "stdout"
        }
      ]
    },
    {
      "cell_type": "code",
      "metadata": {
        "id": "MHsxUtNjfc25",
        "colab_type": "code",
        "outputId": "de7733fe-925a-4e3a-dc8f-e8bf42a724e6",
        "colab": {
          "base_uri": "https://localhost:8080/",
          "height": 531
        }
      },
      "source": [
        "Map = emap.Map(center=[38.50178453635526,-122.74843617724784], zoom=18)\n",
        "Map.addLayer(preFire.select(['R', 'G', 'B']), trueColorVis, 'preFire')\n",
        "Map.addLayer(postFire.select(['R', 'G', 'B']), trueColorVis, 'postFire')\n",
        "Map.addLayer(pre_clusters.randomVisualizer(),'', 'pre_clusters', opacity=0.6)\n",
        "Map.addLayer(post_clusters.randomVisualizer(),'', 'post_clusters', opacity=0.6)\n",
        "Map.addLayer(train_data, {'color': 'yellow'}, 'training',opacity=0.4)\n",
        "Map.addLayer(test_data, {'color': 'blue'}, 'testing',opacity=0.4)\n",
        "Map.addLayerControl()\n",
        "Map"
      ],
      "execution_count": 0,
      "outputs": [
        {
          "output_type": "execute_result",
          "data": {
            "text/html": [
              "<div style=\"width:100%;\"><div style=\"position:relative;width:100%;height:0;padding-bottom:60%;\"><span style=\"color:#565656\">Make this Notebook Trusted to load map: File -> Trust Notebook</span><iframe src=\"about:blank\" style=\"position:absolute;width:100%;height:100%;left:0;top:0;border:none !important;\" data-html=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 onload=\"this.contentDocument.open();this.contentDocument.write(atob(this.getAttribute('data-html')));this.contentDocument.close();\" allowfullscreen webkitallowfullscreen mozallowfullscreen></iframe></div></div>"
            ],
            "text/plain": [
              "<geemap.eefolium.Map at 0x7fa57adae5f8>"
            ]
          },
          "metadata": {
            "tags": []
          },
          "execution_count": 36
        }
      ]
    },
    {
      "cell_type": "markdown",
      "metadata": {
        "id": "R8_lY3HZLmYP",
        "colab_type": "text"
      },
      "source": [
        "### Simple Non-Iterative Clustering (SNIC) Segmentation\n",
        "\n",
        "An improved version of non-parametric SLIC. Superpixel clustering based on SNIC (Simple Non-Iterative Clustering). Outputs a band of cluster IDs and the per-cluster averages for each of the input bands.\n",
        "\n",
        "\n"
      ]
    },
    {
      "cell_type": "code",
      "metadata": {
        "id": "ShzKuBl_rBSa",
        "colab_type": "code",
        "colab": {}
      },
      "source": [
        "def expandSeeds(seeds): \n",
        "  seeds = seeds.unmask(0).focal_max()\n",
        "  return seeds.updateMask(seeds)"
      ],
      "execution_count": 0,
      "outputs": []
    },
    {
      "cell_type": "code",
      "metadata": {
        "id": "NKy_U7t9lzDj",
        "colab_type": "code",
        "colab": {}
      },
      "source": [
        "seeds = ee.Algorithms.Image.Segmentation.seedGrid(30)\n",
        "\n",
        "pre_snic = ee.Algorithms.Image.Segmentation.SNIC(preFire, 30, 15, 8, 200, seeds).select([\"R_mean\", \"G_mean\", \"B_mean\", \"N_mean\", \"clusters\"], [\"R\", \"G\", \"B\", \"N\", \"clusters\"])\n",
        "pre_clusters = pre_snic.select('clusters').rename('SNIC')\n",
        "\n",
        "post_snic = ee.Algorithms.Image.Segmentation.SNIC(postFire, 30, 15, 8)\n",
        "post_clusters = post_snic.select('clusters').rename('SNIC')"
      ],
      "execution_count": 0,
      "outputs": []
    },
    {
      "cell_type": "code",
      "metadata": {
        "id": "ST1hXVjklTQb",
        "colab_type": "code",
        "outputId": "ca2a24b8-dd59-43eb-931d-1707299d8fdc",
        "colab": {
          "base_uri": "https://localhost:8080/",
          "height": 55
        }
      },
      "source": [
        "# add layer\n",
        "postFire = postFire.addBands(post_clusters)\n",
        "preFire = preFire.addBands(pre_clusters)\n",
        "print(preFire.bandNames().getInfo())"
      ],
      "execution_count": 0,
      "outputs": [
        {
          "output_type": "stream",
          "text": [
            "['R', 'G', 'B', 'N', 'NDVI', 'edge', 'BSI', 'SI', 'texture', 'R_contrast', 'N_contrast', 'R_corr', 'G_corr', 'B_corr', 'N_corr', 'R_var', 'N_var', 'R_idm', 'G_idm', 'B_idm', 'N_idm', 'R_diss', 'N_diss', 'R_shade', 'G_shade', 'B_shade', 'N_shade', 'R_gauss', 'G_gauss', 'B_gauss', 'N_gauss', 'R_low_oct', 'G_low_oct', 'B_low_oct', 'N_low_oct', 'R_manha', 'G_manha', 'B_manha', 'N_manha', 'KMeans', 'LVQ', 'KMeans_Seg', 'SNIC']\n"
          ],
          "name": "stdout"
        }
      ]
    },
    {
      "cell_type": "code",
      "metadata": {
        "id": "HWAaaMwkzGFR",
        "colab_type": "code",
        "outputId": "9b5e7a07-15aa-48c8-958e-796327ce229d",
        "colab": {
          "base_uri": "https://localhost:8080/",
          "height": 531
        }
      },
      "source": [
        "Map = emap.Map(center=[38.50178453635526,-122.74843617724784], zoom=18)\n",
        "Map.addLayer(pre_clusters.randomVisualizer(),'' , \"clusters\")\n",
        "Map.addLayer(post_clusters.randomVisualizer(),'', 'postFire_SNIC', opacity=0.6)\n",
        "Map.addLayer(expandSeeds(seeds), {}, 'seeds')\n",
        "Map.addLayer(train_data, {'color': 'yellow'}, 'training',opacity=0.4)\n",
        "Map.addLayer(test_data, {'color': 'blue'}, 'testing',opacity=0.4)\n",
        "Map.addLayerControl()\n",
        "Map"
      ],
      "execution_count": 0,
      "outputs": [
        {
          "output_type": "execute_result",
          "data": {
            "text/html": [
              "<div style=\"width:100%;\"><div style=\"position:relative;width:100%;height:0;padding-bottom:60%;\"><span style=\"color:#565656\">Make this Notebook Trusted to load map: File -> Trust Notebook</span><iframe src=\"about:blank\" style=\"position:absolute;width:100%;height:100%;left:0;top:0;border:none !important;\" data-html=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 onload=\"this.contentDocument.open();this.contentDocument.write(atob(this.getAttribute('data-html')));this.contentDocument.close();\" allowfullscreen webkitallowfullscreen mozallowfullscreen></iframe></div></div>"
            ],
            "text/plain": [
              "<geemap.eefolium.Map at 0x7fa57adb86a0>"
            ]
          },
          "metadata": {
            "tags": []
          },
          "execution_count": 40
        }
      ]
    },
    {
      "cell_type": "markdown",
      "metadata": {
        "id": "SkVwNdHp6e_e",
        "colab_type": "text"
      },
      "source": [
        "__Feature Description__\n",
        "<br>This superpixel method is segmented the images quite well. There is a obvious difference between pre- and post- results, with post segmentations being more scattered "
      ]
    },
    {
      "cell_type": "markdown",
      "metadata": {
        "id": "riMEL-He8ciW",
        "colab_type": "text"
      },
      "source": [
        "## Image Extraction\n",
        "\n",
        "To run xgboost and neural networks locally, extract images by building polygons from the GEE API. Extracted images (with all features) will be saved in Google Drive. Reading these extracted images as well as training XGBoost and Neural Net will be run in seperate jupyter notebooks.\n",
        "<br>__output images will have all 43 features at a resolutoin of 1 meter__\n",
        "\n",
        "<br>__To reduce image size (due to the expot limit from GEE API):__\n",
        "<br>**Each polygon converted from XView annotations has recorded its original image ID. Based on these, for each id, clip the pre- and post- images respectively by polygons with the same id**\n",
        "<br>**The output image would roughly be in the same extent as its original image**"
      ]
    },
    {
      "cell_type": "code",
      "metadata": {
        "id": "Smqhb9l28dSp",
        "colab_type": "code",
        "colab": {}
      },
      "source": [
        "#make sure all features (each band of the image has the same data type)\n",
        "preFire=ee.Image.float(preFire) \n",
        "postFire=ee.Image.float(postFire) "
      ],
      "execution_count": 0,
      "outputs": []
    },
    {
      "cell_type": "code",
      "metadata": {
        "id": "rl1AJYigESfD",
        "colab_type": "code",
        "colab": {}
      },
      "source": [
        "#The whole pre- and post- images include two seperate areas, first use geo dataframe to subset Santa Rosa\n",
        "#Santa Rosa\n",
        "train_data_SR=train_data.filter(ee.Filter.eq('location_n', 'santa-rosa-wildfire'))\n",
        "santaRosa = gdf.query(\"location_n == 'santa-rosa-wildfire'\")\n",
        "ID_list=santaRosa.ID.unique()\n",
        "#convert ground truth polygons to image\n",
        "SR_true_pre = ee.Image.byte(train_data_SR.filter(ee.Filter.eq('pre_post_d','pre')).reduceToImage(properties=['dmg_code'],reducer=ee.Reducer.first()))\n",
        "SR_true_post = ee.Image.byte(train_data_SR.filter(ee.Filter.eq('pre_post_d','post')).reduceToImage(properties=['dmg_code'],reducer=ee.Reducer.first()))"
      ],
      "execution_count": 0,
      "outputs": []
    },
    {
      "cell_type": "code",
      "metadata": {
        "id": "H8qFh_xLE0jI",
        "colab_type": "code",
        "colab": {}
      },
      "source": [
        "#use the export function from GEE API to save both pre- and post-fire features and ground truth images\n",
        "for index in ID_list:\n",
        "    try:\n",
        "        image_ROI=train_data_SR.filter(ee.Filter.eq('ID', index))\n",
        "        #post\n",
        "        ROI_shp=santaRosa[(santaRosa['ID']==index)&(santaRosa['pre_post_d']=='post')]\n",
        "        image_bound=ee.Geometry.Polygon(get_bounds(ROI_shp))\n",
        "        task1=ee.batch.Export.image.toDrive(image=postFire, description='post_'+index, folder='NAIP_img_new', region=image_bound, scale=1)\n",
        "        task2=ee.batch.Export.image.toDrive(image=SR_true_post, description='post_'+index+'gt', folder='NAIP_img_new', region=image_bound, scale=1)\n",
        "        task1.start()\n",
        "        task2.start()\n",
        "        #print(task2.status())\n",
        "        #pre\n",
        "        ROI_shp=santaRosa[(santaRosa['ID']==index)&(santaRosa['pre_post_d']=='pre')]\n",
        "        image_bound=ee.Geometry.Polygon(get_bounds(ROI_shp))\n",
        "        task3=ee.batch.Export.image.toDrive(image=preFire, description='pre_'+index, folder='NAIP_img_new', region=image_bound, scale=1)\n",
        "        task4=ee.batch.Export.image.toDrive(image=SR_true_pre, description='pre_'+index+'gt', folder='NAIP_img_new', region=image_bound, scale=1)\n",
        "        task3.start()\n",
        "        task4.start()\n",
        "        #print(task3.status())\n",
        "        #if index=='00000376':\n",
        "        #    print('done!')\n",
        "    except:\n",
        "        continue\n"
      ],
      "execution_count": 0,
      "outputs": []
    },
    {
      "cell_type": "markdown",
      "metadata": {
        "id": "VhBqrf75l_mM",
        "colab_type": "text"
      },
      "source": [
        "## Supervised Classification\n",
        "\n",
        "\n"
      ]
    },
    {
      "cell_type": "markdown",
      "metadata": {
        "id": "-iZyDQ-Yhl5N",
        "colab_type": "text"
      },
      "source": [
        "Filter Imagery\n",
        "<br>To run machine learning models on GEE, first need to reduce data amount due to its restrictions\n",
        "<br>Exclude areas with vegetation below i.e. only keeps imagery areas with urban and baresoil \n",
        "<br>Note: this mask was not applied to the exported images used for XGBoost and neural net "
      ]
    },
    {
      "cell_type": "code",
      "metadata": {
        "id": "s7rb8ONrhtH7",
        "colab_type": "code",
        "colab": {}
      },
      "source": [
        "hansenImage = ee.Image('UMD/hansen/global_forest_change_2015')\n",
        "\n",
        "def applyMask(imageryA, imageryB, hansenImage):\n",
        "  '''\n",
        "  Mask out all vegetation and water from imagery from pre disaster values.\n",
        "  '''\n",
        "  NDVIMaskB = imageryB.select('NDVI').lt(0.005)\n",
        "  dataMask =  hansenImage.select('datamask')\n",
        "  waterMask = dataMask.eq(1)\n",
        "  imageryA = imageryA.updateMask(NDVIMaskB)\n",
        "  new_imagery = imageryA.updateMask(waterMask)\n",
        "  return new_imagery\n",
        "\n",
        "postFire_filt = applyMask(postFire, preFire, hansenImage)"
      ],
      "execution_count": 0,
      "outputs": []
    },
    {
      "cell_type": "code",
      "metadata": {
        "id": "sXohvwewiJXl",
        "colab_type": "code",
        "outputId": "3510c093-23b8-407e-fda2-74a35a2113ea",
        "colab": {
          "base_uri": "https://localhost:8080/",
          "height": 531
        }
      },
      "source": [
        "Map = emap.Map(center=[38.50178453635526,-122.74843617724784], zoom=11)\n",
        "Map.addLayer(postFire_filt.select(['R', 'G', 'B']), trueColorVis, 'postFire')\n",
        "Map.addLayerControl()\n",
        "Map"
      ],
      "execution_count": 0,
      "outputs": [
        {
          "output_type": "execute_result",
          "data": {
            "text/html": [
              "<div style=\"width:100%;\"><div style=\"position:relative;width:100%;height:0;padding-bottom:60%;\"><span style=\"color:#565656\">Make this Notebook Trusted to load map: File -> Trust Notebook</span><iframe src=\"about:blank\" style=\"position:absolute;width:100%;height:100%;left:0;top:0;border:none !important;\" data-html=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 onload=\"this.contentDocument.open();this.contentDocument.write(atob(this.getAttribute('data-html')));this.contentDocument.close();\" allowfullscreen webkitallowfullscreen mozallowfullscreen></iframe></div></div>"
            ],
            "text/plain": [
              "<geemap.eefolium.Map at 0x7fa57aee8b38>"
            ]
          },
          "metadata": {
            "tags": []
          },
          "execution_count": 56
        }
      ]
    },
    {
      "cell_type": "markdown",
      "metadata": {
        "id": "6YR3ROAPYl8B",
        "colab_type": "text"
      },
      "source": [
        "### Train Data"
      ]
    },
    {
      "cell_type": "code",
      "metadata": {
        "id": "Kas7v6CcljkS",
        "colab_type": "code",
        "outputId": "9fc05686-d531-4c2e-ad4c-efa9657541b7",
        "colab": {
          "base_uri": "https://localhost:8080/",
          "height": 55
        }
      },
      "source": [
        "print(postFire_filt.bandNames().getInfo())"
      ],
      "execution_count": 0,
      "outputs": [
        {
          "output_type": "stream",
          "text": [
            "['R', 'G', 'B', 'N', 'NDVI', 'edge', 'BSI', 'SI', 'texture', 'R_contrast', 'N_contrast', 'R_corr', 'G_corr', 'B_corr', 'N_corr', 'R_var', 'N_var', 'R_idm', 'G_idm', 'B_idm', 'N_idm', 'R_diss', 'N_diss', 'R_shade', 'G_shade', 'B_shade', 'N_shade', 'R_gauss', 'G_gauss', 'B_gauss', 'N_gauss', 'R_low_oct', 'G_low_oct', 'B_low_oct', 'N_low_oct', 'R_manha', 'G_manha', 'B_manha', 'N_manha', 'KMeans', 'KMeans_Seg', 'SNIC', 'LVQ']\n"
          ],
          "name": "stdout"
        }
      ]
    },
    {
      "cell_type": "code",
      "metadata": {
        "id": "A_wcJhquYkR0",
        "colab_type": "code",
        "colab": {}
      },
      "source": [
        "#bands = ['R', 'G', 'B', 'N', 'NDVI'] #'edge', 'BSI', 'SI', 'texture', 'KMeans', 'LVQ', 'KMeans_Seg', 'SNIC'\n",
        "bands=postFire_filt.bandNames().getInfo()\n",
        "training = postFire_filt.select(bands).sampleRegions(**{\n",
        "  'collection': train_data,\n",
        "  'properties': ['dmg_code'],\n",
        "  'scale': 30\n",
        "});"
      ],
      "execution_count": 0,
      "outputs": []
    },
    {
      "cell_type": "markdown",
      "metadata": {
        "id": "uMtteYjiSlOI",
        "colab_type": "text"
      },
      "source": [
        "### Decision Tree"
      ]
    },
    {
      "cell_type": "markdown",
      "metadata": {
        "id": "AKtYwdo9Cw9g",
        "colab_type": "text"
      },
      "source": [
        "#### Classifier"
      ]
    },
    {
      "cell_type": "code",
      "metadata": {
        "id": "0tLE-yBaSkLG",
        "colab_type": "code",
        "colab": {}
      },
      "source": [
        "# Train a CART classifier with default parameters.\n",
        "classifier = ee.Classifier.smileCart().train(training, 'dmg_code', bands);\n",
        "\n",
        "# Classify the image with the same bands used for training.\n",
        "postFire_classified = postFire_filt.select(bands).classify(classifier);\n",
        "#preFire_classified = preFire_filt.select(bands).classify(trained);"
      ],
      "execution_count": 0,
      "outputs": []
    },
    {
      "cell_type": "markdown",
      "metadata": {
        "id": "C6sg3QT6VbdB",
        "colab_type": "text"
      },
      "source": [
        "#### Feature Importance"
      ]
    },
    {
      "cell_type": "code",
      "metadata": {
        "id": "FDg_yUrmK1Yy",
        "colab_type": "code",
        "outputId": "a150938d-4a50-4edf-ced9-7083b5bf3f1e",
        "colab": {
          "base_uri": "https://localhost:8080/",
          "height": 797
        }
      },
      "source": [
        "class_explain = classifier.explain()\n",
        "variable_importance = ee.Feature(None, ee.Dictionary(class_explain).get('importance'))\n",
        "variable_importance.getInfo()"
      ],
      "execution_count": 0,
      "outputs": [
        {
          "output_type": "execute_result",
          "data": {
            "text/plain": [
              "{'geometry': None,\n",
              " 'properties': {'B': 0.02194288854150557,\n",
              "  'BSI': 0,\n",
              "  'B_corr': 0,\n",
              "  'B_gauss': 0.009158680555555541,\n",
              "  'B_idm': 0.01755926111230438,\n",
              "  'B_low_oct': 0.004458551767260323,\n",
              "  'B_manha': 0,\n",
              "  'B_shade': 0.0816197338504763,\n",
              "  'G': 0,\n",
              "  'G_corr': 0,\n",
              "  'G_gauss': 0.012331526360544163,\n",
              "  'G_idm': 0,\n",
              "  'G_low_oct': 0,\n",
              "  'G_manha': 0.08418367346938771,\n",
              "  'G_shade': 0,\n",
              "  'KMeans': 0,\n",
              "  'KMeans_Seg': 6.938893903907228e-18,\n",
              "  'LVQ': 0,\n",
              "  'N': 0,\n",
              "  'NDVI': 0.12499999999999964,\n",
              "  'N_contrast': 0.01007275813196429,\n",
              "  'N_corr': 0.05578512396694213,\n",
              "  'N_diss': 0,\n",
              "  'N_gauss': 0.03994170561124387,\n",
              "  'N_idm': 0.09374999999999997,\n",
              "  'N_low_oct': 1.734723475976807e-18,\n",
              "  'N_manha': 0,\n",
              "  'N_shade': 0,\n",
              "  'N_var': 0,\n",
              "  'R': 0.2781038456988883,\n",
              "  'R_contrast': 0.1020408163265306,\n",
              "  'R_corr': 0,\n",
              "  'R_diss': -1.3877787807814457e-17,\n",
              "  'R_gauss': 0.017897702507311986,\n",
              "  'R_idm': 1.3877787807814457e-17,\n",
              "  'R_low_oct': 0.028491512345679024,\n",
              "  'R_manha': 3.469446951953614e-18,\n",
              "  'R_shade': 0.05489757240449442,\n",
              "  'R_var': 2.0816681711721685e-17,\n",
              "  'SI': 0.04895104895104895,\n",
              "  'SNIC': 0.06147665746196665,\n",
              "  'edge': 0.006015842300091601,\n",
              "  'texture': 0.04303571428571429},\n",
              " 'type': 'Feature'}"
            ]
          },
          "metadata": {
            "tags": []
          },
          "execution_count": 66
        }
      ]
    },
    {
      "cell_type": "code",
      "metadata": {
        "id": "_1oa7EzSHBIq",
        "colab_type": "code",
        "outputId": "60066c1d-47e5-4cf9-cb68-07943bedb689",
        "colab": {
          "base_uri": "https://localhost:8080/",
          "height": 883
        }
      },
      "source": [
        "import json\n",
        "import matplotlib.pylab as plt\n",
        "import seaborn as sns \n",
        "import pandas.util.testing as tm\n",
        "sns.set(style=\"whitegrid\")\n",
        "sns.set_color_codes(\"pastel\")\n",
        "\n",
        "var_dict = variable_importance.getInfo()\n",
        "\n",
        "lists = sorted(var_dict['properties'].items(), key = lambda kv:(kv[1], kv[0]), reverse=True)\n",
        "var = [i[0] for i in lists]\n",
        "values = [i[1] for i in lists]\n",
        "d = pd.DataFrame({'Variables':var,'Values':values})\n",
        "\n",
        "\n",
        "plt.figure(figsize=(5,15))\n",
        "sns.barplot('Values', 'Variables', data = d, label=\"Variables\", color=\"b\")\n",
        "plt.savefig(\"Model_Fig/CART_feature_imp.png\", dpi=250)"
      ],
      "execution_count": 0,
      "outputs": [
        {
          "output_type": "display_data",
          "data": {
            "image/png": "[encoded data removed]",
            "text/plain": [
              "<Figure size 360x1080 with 1 Axes>"
            ]
          },
          "metadata": {
            "tags": []
          }
        }
      ]
    },
    {
      "cell_type": "markdown",
      "metadata": {
        "id": "0mJfPEU4C2pR",
        "colab_type": "text"
      },
      "source": [
        "####Validation"
      ]
    },
    {
      "cell_type": "code",
      "metadata": {
        "id": "LxEiiWBFAKCE",
        "colab_type": "code",
        "colab": {}
      },
      "source": [
        "validation = postFire_classified.sampleRegions(**{\n",
        "  'collection': test_data,\n",
        "  'properties': ['dmg_code'],\n",
        "  'scale': 30,\n",
        "})\n",
        "\n",
        "testAccuracy = validation.errorMatrix('dmg_code', 'classification');"
      ],
      "execution_count": 0,
      "outputs": []
    },
    {
      "cell_type": "code",
      "metadata": {
        "id": "o5tSxPBZAFuZ",
        "colab_type": "code",
        "outputId": "a2fb60a3-6cd7-4715-a784-d88e4173c4cd",
        "colab": {
          "base_uri": "https://localhost:8080/",
          "height": 87
        }
      },
      "source": [
        "print(\"Test Accuracy: \", testAccuracy.accuracy().getInfo())\n",
        "print(\"Kappa Accuracy: \", testAccuracy.kappa().getInfo())\n",
        "print(\"Producer Accuracy: \", testAccuracy.producersAccuracy().getInfo())\n",
        "print(\"User Accuracy(): \", testAccuracy.consumersAccuracy().getInfo())"
      ],
      "execution_count": 0,
      "outputs": [
        {
          "output_type": "stream",
          "text": [
            "Test Accuracy:  0.8672817601135557\n",
            "Kappa Accuracy:  -0.0014138519484173577\n",
            "Producer Accuracy:  [[0], [0.9983660130718954], [0], [0], [0]]\n",
            "User Accuracy():  [[0, 0.8685145700071073, 0, 0, 0]]\n"
          ],
          "name": "stdout"
        }
      ]
    },
    {
      "cell_type": "markdown",
      "metadata": {
        "id": "5ueRdvFSC8AR",
        "colab_type": "text"
      },
      "source": [
        "#### Classification Visual"
      ]
    },
    {
      "cell_type": "code",
      "metadata": {
        "id": "JAsneFuWS_SK",
        "colab_type": "code",
        "outputId": "6aa68980-87b6-413e-c445-5cc6e45be4e9",
        "colab": {
          "base_uri": "https://localhost:8080/",
          "height": 531
        }
      },
      "source": [
        "class_palette = ['bff7ff','ff9900']\n",
        "\n",
        "Map = emap.Map(center=[38.50178453635526,-122.74843617724784], zoom=11)\n",
        "Map.addLayer(preFire.select(['R', 'G', 'B']), trueColorVis, 'preFire')\n",
        "Map.addLayer(postFire.select(['R', 'G', 'B']), trueColorVis, 'postFire')\n",
        "Map.addLayer(postFire_classified,\n",
        "             {'palette': train_palette, 'min': 0, 'max':4},\n",
        "             'postFire_classification')\n",
        "Map.addLayer(visualizeByAttribute(train_data, 'dmg_code'), {'palette': train_palette, 'min': 0, 'max':4}, 'train')\n",
        "Map.addLayer(visualizeByAttribute(test_data, 'dmg_code'), {'palette': train_palette,'min': 0, 'max':4}, 'test')\n",
        "Map.addLayerControl()\n",
        "Map"
      ],
      "execution_count": 0,
      "outputs": [
        {
          "output_type": "execute_result",
          "data": {
            "text/html": [
              "<div style=\"width:100%;\"><div style=\"position:relative;width:100%;height:0;padding-bottom:60%;\"><span style=\"color:#565656\">Make this Notebook Trusted to load map: File -> Trust Notebook</span><iframe src=\"about:blank\" style=\"position:absolute;width:100%;height:100%;left:0;top:0;border:none !important;\" data-html=PCFET0NUWVBFIGh0bWw+CjxoZWFkPiAgICAKICAgIDxtZXRhIGh0dHAtZXF1aXY9ImNvbnRlbnQtdHlwZSIgY29udGVudD0idGV4dC9odG1sOyBjaGFyc2V0PVVURi04IiAvPgogICAgCiAgICAgICAgPHNjcmlwdD4KICAgICAgICAgICAgTF9OT19UT1VDSCA9IGZhbHNlOwogICAgICAgICAgICBMX0RJU0FCTEVfM0QgPSBmYWxzZTsKICAgICAgICA8L3NjcmlwdD4KICAgIAogICAgPHNjcmlwdCBzcmM9Imh0dHBzOi8vY2RuLmpzZGVsaXZyLm5ldC9ucG0vbGVhZmxldEAxLjYuMC9kaXN0L2xlYWZsZXQuanMiPjwvc2NyaXB0PgogICAgPHNjcmlwdCBzcmM9Imh0dHBzOi8vY29kZS5qcXVlcnkuY29tL2pxdWVyeS0xLjEyLjQubWluLmpzIj48L3NjcmlwdD4KICAgIDxzY3JpcHQgc3JjPSJodHRwczovL21heGNkbi5ib290c3RyYXBjZG4uY29tL2Jvb3RzdHJhcC8zLjIuMC9qcy9ib290c3RyYXAubWluLmpzIj48L3NjcmlwdD4KICAgIDxzY3JpcHQgc3JjPSJodHRwczovL2NkbmpzLmNsb3VkZmxhcmUuY29tL2FqYXgvbGlicy9MZWFmbGV0LmF3ZXNvbWUtbWFya2Vycy8yLjAuMi9sZWFmbGV0LmF3ZXNvbWUtbWFya2Vycy5qcyI+PC9zY3JpcHQ+CiAgICA8bGluayByZWw9InN0eWxlc2hlZXQiIGhyZWY9Imh0dHBzOi8vY2RuLmpzZGVsaXZyLm5ldC9ucG0vbGVhZmxldEAxLjYuMC9kaXN0L2xlYWZsZXQuY3NzIi8+CiAgICA8bGluayByZWw9InN0eWxlc2hlZXQiIGhyZWY9Imh0dHBzOi8vbWF4Y2RuLmJvb3RzdHJhcGNkbi5jb20vYm9vdHN0cmFwLzMuMi4wL2Nzcy9ib290c3RyYXAubWluLmNzcyIvPgogICAgPGxpbmsgcmVsPSJzdHlsZXNoZWV0IiBocmVmPSJodHRwczovL21heGNkbi5ib290c3RyYXBjZG4uY29tL2Jvb3RzdHJhcC8zLjIuMC9jc3MvYm9vdHN0cmFwLXRoZW1lLm1pbi5jc3MiLz4KICAgIDxsaW5rIHJlbD0ic3R5bGVzaGVldCIgaHJlZj0iaHR0cHM6Ly9tYXhjZG4uYm9vdHN0cmFwY2RuLmNvbS9mb250LWF3ZXNvbWUvNC42LjMvY3NzL2ZvbnQtYXdlc29tZS5taW4uY3NzIi8+CiAgICA8bGluayByZWw9InN0eWxlc2hlZXQiIGhyZWY9Imh0dHBzOi8vY2RuanMuY2xvdWRmbGFyZS5jb20vYWpheC9saWJzL0xlYWZsZXQuYXdlc29tZS1tYXJrZXJzLzIuMC4yL2xlYWZsZXQuYXdlc29tZS1tYXJrZXJzLmNzcyIvPgogICAgPGxpbmsgcmVsPSJzdHlsZXNoZWV0IiBocmVmPSJodHRwczovL3Jhd2Nkbi5naXRoYWNrLmNvbS9weXRob24tdmlzdWFsaXphdGlvbi9mb2xpdW0vbWFzdGVyL2ZvbGl1bS90ZW1wbGF0ZXMvbGVhZmxldC5hd2Vzb21lLnJvdGF0ZS5jc3MiLz4KICAgIDxzdHlsZT5odG1sLCBib2R5IHt3aWR0aDogMTAwJTtoZWlnaHQ6IDEwMCU7bWFyZ2luOiAwO3BhZGRpbmc6IDA7fTwvc3R5bGU+CiAgICA8c3R5bGU+I21hcCB7cG9zaXRpb246YWJzb2x1dGU7dG9wOjA7Ym90dG9tOjA7cmlnaHQ6MDtsZWZ0OjA7fTwvc3R5bGU+CiAgICAKICAgICAgICAgICAgPG1ldGEgbmFtZT0idmlld3BvcnQiIGNvbnRlbnQ9IndpZHRoPWRldmljZS13aWR0aCwKICAgICAgICAgICAgICAgIGluaXRpYWwtc2NhbGU9MS4wLCBtYXhpbXVtLXNjYWxlPTEuMCwgdXNlci1zY2FsYWJsZT1ubyIgLz4KICAgICAgICAgICAgPHN0eWxlPgogICAgICAgICAgICAgICAgI21hcF81YWQ5ZmI1OWVlYmE0ODhhYTMyMjI4NTA1NTczZGNmNiB7CiAgICAgICAgICAgICAgICAgICAgcG9zaXRpb246IHJlbGF0aXZlOwogICAgICAgICAgICAgICAgICAgIHdpZHRoOiAxMDAuMCU7CiAgICAgICAgICAgICAgICAgICAgaGVpZ2h0OiAxMDAuMCU7CiAgICAgICAgICAgICAgICAgICAgbGVmdDogMC4wJTsKICAgICAgICAgICAgICAgICAgICB0b3A6IDAuMCU7CiAgICAgICAgICAgICAgICB9CiAgICAgICAgICAgIDwvc3R5bGU+CiAgICAgICAgCiAgICA8c2NyaXB0IHNyYz0iaHR0cHM6Ly9jZG5qcy5jbG91ZGZsYXJlLmNvbS9hamF4L2xpYnMvbGVhZmxldC5mdWxsc2NyZWVuLzEuNC4yL0NvbnRyb2wuRnVsbFNjcmVlbi5taW4uanMiPjwvc2NyaXB0PgogICAgPGxpbmsgcmVsPSJzdHlsZXNoZWV0IiBocmVmPSJodHRwczovL2NkbmpzLmNsb3VkZmxhcmUuY29tL2FqYXgvbGlicy9sZWFmbGV0LmZ1bGxzY3JlZW4vMS40LjIvQ29udHJvbC5GdWxsU2NyZWVuLm1pbi5jc3MiLz4KPC9oZWFkPgo8Ym9keT4gICAgCiAgICAKICAgICAgICAgICAgPGRpdiBjbGFzcz0iZm9saXVtLW1hcCIgaWQ9Im1hcF81YWQ5ZmI1OWVlYmE0ODhhYTMyMjI4NTA1NTczZGNmNiIgPjwvZGl2PgogICAgICAgIAo8L2JvZHk+CjxzY3JpcHQ+ICAgIAogICAgCiAgICAgICAgICAgIHZhciBtYXBfNWFkOWZiNTllZWJhNDg4YWEzMjIyODUwNTU3M2RjZjYgPSBMLm1hcCgKICAgICAgICAgICAgICAgICJtYXBfNWFkOWZiNTllZWJhNDg4YWEzMjIyODUwNTU3M2RjZjYiLAogICAgICAgICAgICAgICAgewogICAgICAgICAgICAgICAgICAgIGNlbnRlcjogWzM4LjUwMTc4NDUzNjM1NTI2LCAtMTIyLjc0ODQzNjE3NzI0Nzg0XSwKICAgICAgICAgICAgICAgICAgICBjcnM6IEwuQ1JTLkVQU0czODU3LAogICAgICAgICAgICAgICAgICAgIHpvb206IDExLAogICAgICAgICAgICAgICAgICAgIHpvb21Db250cm9sOiB0cnVlLAogICAgICAgICAgICAgICAgICAgIHByZWZlckNhbnZhczogZmFsc2UsCiAgICAgICAgICAgICAgICB9CiAgICAgICAgICAgICk7CgogICAgICAgICAgICAKCiAgICAgICAgCiAgICAKICAgICAgICAgICAgdmFyIHRpbGVfbGF5ZXJfODc5YjczNTBiZGI2NDg3M2I4YzRiZGQxZjliNWRmMmYgPSBMLnRpbGVMYXllcigKICAgICAgICAgICAgICAgICJodHRwczovL3tzfS50aWxlLm9wZW5zdHJlZXRtYXAub3JnL3t6fS97eH0ve3l9LnBuZyIsCiAgICAgICAgICAgICAgICB7ImF0dHJpYnV0aW9uIjogIkRhdGEgYnkgXHUwMDI2Y29weTsgXHUwMDNjYSBocmVmPVwiaHR0cDovL29wZW5zdHJlZXRtYXAub3JnXCJcdTAwM2VPcGVuU3RyZWV0TWFwXHUwMDNjL2FcdTAwM2UsIHVuZGVyIFx1MDAzY2EgaHJlZj1cImh0dHA6Ly93d3cub3BlbnN0cmVldG1hcC5vcmcvY29weXJpZ2h0XCJcdTAwM2VPRGJMXHUwMDNjL2FcdTAwM2UuIiwgImRldGVjdFJldGluYSI6IGZhbHNlLCAibWF4TmF0aXZlWm9vbSI6IDE4LCAibWF4Wm9vbSI6IDE4LCAibWluWm9vbSI6IDAsICJub1dyYXAiOiBmYWxzZSwgIm9wYWNpdHkiOiAxLCAic3ViZG9tYWlucyI6ICJhYmMiLCAidG1zIjogZmFsc2V9CiAgICAgICAgICAgICkuYWRkVG8obWFwXzVhZDlmYjU5ZWViYTQ4OGFhMzIyMjg1MDU1NzNkY2Y2KTsKICAgICAgICAKICAgIAogICAgICAgICAgICB2YXIgdGlsZV9sYXllcl83MzNhOTM4Zjk4N2I0Y2RiOWZkMGRiOTg3NTQ0NjhlNiA9IEwudGlsZUxheWVyKAogICAgICAgICAgICAgICAgImh0dHBzOi8vbXQxLmdvb2dsZS5jb20vdnQvbHlycz15XHUwMDI2eD17eH1cdTAwMjZ5PXt5fVx1MDAyNno9e3p9IiwKICAgICAgICAgICAgICAgIHsiYXR0cmlidXRpb24iOiAiR29vZ2xlIiwgImRldGVjdFJldGluYSI6IGZhbHNlLCAibWF4TmF0aXZlWm9vbSI6IDE4LCAibWF4Wm9vbSI6IDE4LCAibWluWm9vbSI6IDAsICJub1dyYXAiOiBmYWxzZSwgIm9wYWNpdHkiOiAxLCAic3ViZG9tYWlucyI6ICJhYmMiLCAidG1zIjogZmFsc2V9CiAgICAgICAgICAgICkuYWRkVG8obWFwXzVhZDlmYjU5ZWViYTQ4OGFhMzIyMjg1MDU1NzNkY2Y2KTsKICAgICAgICAKICAgIAogICAgICAgICAgICAgICAgdmFyIGxhdF9sbmdfcG9wdXBfNmU0N2M2ZDllZDUwNGI2MmFjMmExZGU4MTIwYmJjYTUgPSBMLnBvcHVwKCk7CiAgICAgICAgICAgICAgICBmdW5jdGlvbiBsYXRMbmdQb3AoZSkgewogICAgICAgICAgICAgICAgICAgIGxhdF9sbmdfcG9wdXBfNmU0N2M2ZDllZDUwNGI2MmFjMmExZGU4MTIwYmJjYTUKICAgICAgICAgICAgICAgICAgICAgICAgLnNldExhdExuZyhlLmxhdGxuZykKICAgICAgICAgICAgICAgICAgICAgICAgLnNldENvbnRlbnQoIkxhdGl0dWRlOiAiICsgZS5sYXRsbmcubGF0LnRvRml4ZWQoNCkgKwogICAgICAgICAgICAgICAgICAgICAgICAgICAgICAgICAgICAiPGJyPkxvbmdpdHVkZTogIiArIGUubGF0bG5nLmxuZy50b0ZpeGVkKDQpKQogICAgICAgICAgICAgICAgICAgICAgICAub3Blbk9uKG1hcF81YWQ5ZmI1OWVlYmE0ODhhYTMyMjI4NTA1NTczZGNmNik7CiAgICAgICAgICAgICAgICAgICAgfQogICAgICAgICAgICAgICAgbWFwXzVhZDlmYjU5ZWViYTQ4OGFhMzIyMjg1MDU1NzNkY2Y2Lm9uKCdjbGljaycsIGxhdExuZ1BvcCk7CiAgICAgICAgICAgIAogICAgCiAgICAgICAgICAgIEwuY29udHJvbC5mdWxsc2NyZWVuKAogICAgICAgICAgICAgICAgeyJmb3JjZVNlcGFyYXRlQnV0dG9uIjogZmFsc2UsICJwb3NpdGlvbiI6ICJ0b3BsZWZ0IiwgInRpdGxlIjogIkZ1bGwgU2NyZWVuIiwgInRpdGxlQ2FuY2VsIjogIkV4aXQgRnVsbCBTY3JlZW4ifQogICAgICAgICAgICApLmFkZFRvKG1hcF81YWQ5ZmI1OWVlYmE0ODhhYTMyMjI4NTA1NTczZGNmNik7CiAgICAgICAgCiAgICAKICAgICAgICAgICAgbWFwXzVhZDlmYjU5ZWViYTQ4OGFhMzIyMjg1MDU1NzNkY2Y2LmZpdEJvdW5kcygKICAgICAgICAgICAgICAgIFtbMzguNTAxNzg0NTM2MzU1MjYsIC0xMjIuNzQ4NDM2MTc3MjQ3ODRdLCBbMzguNTAxNzg0NTM2MzU1MjYsIC0xMjIuNzQ4NDM2MTc3MjQ3ODRdXSwKICAgICAgICAgICAgICAgIHsibWF4Wm9vbSI6IDExfQogICAgICAgICAgICApOwogICAgICAgIAogICAgCiAgICAgICAgICAgIHZhciB0aWxlX2xheWVyXzk2MjEzNTMyNmUzMjQ5ZjRhNjQ0MThhZTNiZDBmN2IzID0gTC50aWxlTGF5ZXIoCiAgICAgICAgICAgICAgICAiaHR0cHM6Ly9lYXJ0aGVuZ2luZS5nb29nbGVhcGlzLmNvbS92MWFscGhhL3Byb2plY3RzL2VhcnRoZW5naW5lLWxlZ2FjeS9tYXBzL2Q5OGYyYWQ4YTNkNGVjYTQwZmMyY2EyYjZhNjM4MWEwLTNlY2U5NzA2MmZlOWFmZmFiMTQ5NGYzNzc1NzBhMDY5L3RpbGVzL3t6fS97eH0ve3l9IiwKICAgICAgICAgICAgICAgIHsiYXR0cmlidXRpb24iOiAiR29vZ2xlIEVhcnRoIEVuZ2luZSIsICJkZXRlY3RSZXRpbmEiOiBmYWxzZSwgIm1heE5hdGl2ZVpvb20iOiAxOCwgIm1heFpvb20iOiAxOCwgIm1pblpvb20iOiAwLCAibm9XcmFwIjogZmFsc2UsICJvcGFjaXR5IjogMS4wLCAic3ViZG9tYWlucyI6ICJhYmMiLCAidG1zIjogZmFsc2V9CiAgICAgICAgICAgICkuYWRkVG8obWFwXzVhZDlmYjU5ZWViYTQ4OGFhMzIyMjg1MDU1NzNkY2Y2KTsKICAgICAgICAKICAgIAogICAgICAgICAgICB2YXIgdGlsZV9sYXllcl83MDM0NTJjMTliMzU0ZTI1OWEzNmY4ODQzMGUzMGEyNSA9IEwudGlsZUxheWVyKAogICAgICAgICAgICAgICAgImh0dHBzOi8vZWFydGhlbmdpbmUuZ29vZ2xlYXBpcy5jb20vdjFhbHBoYS9wcm9qZWN0cy9lYXJ0aGVuZ2luZS1sZWdhY3kvbWFwcy8zYzUzNTRhZmYwNzU0MDJlYTIwMzZiZmI3M2MzYTQxYi0wYWYxZDFhMjZjYTNiYTEyOTM4MmZmNWMyYzJkYTFlNy90aWxlcy97en0ve3h9L3t5fSIsCiAgICAgICAgICAgICAgICB7ImF0dHJpYnV0aW9uIjogIkdvb2dsZSBFYXJ0aCBFbmdpbmUiLCAiZGV0ZWN0UmV0aW5hIjogZmFsc2UsICJtYXhOYXRpdmVab29tIjogMTgsICJtYXhab29tIjogMTgsICJtaW5ab29tIjogMCwgIm5vV3JhcCI6IGZhbHNlLCAib3BhY2l0eSI6IDEuMCwgInN1YmRvbWFpbnMiOiAiYWJjIiwgInRtcyI6IGZhbHNlfQogICAgICAgICAgICApLmFkZFRvKG1hcF81YWQ5ZmI1OWVlYmE0ODhhYTMyMjI4NTA1NTczZGNmNik7CiAgICAgICAgCiAgICAKICAgICAgICAgICAgdmFyIHRpbGVfbGF5ZXJfMDJkZjMyNzlmOWVjNGQ3Yzk3ZmEwODRkZGI0NGIzMzYgPSBMLnRpbGVMYXllcigKICAgICAgICAgICAgICAgICJodHRwczovL2VhcnRoZW5naW5lLmdvb2dsZWFwaXMuY29tL3YxYWxwaGEvcHJvamVjdHMvZWFydGhlbmdpbmUtbGVnYWN5L21hcHMvMTY0ZjQ2ZmMwMDMwMzkwN2QxNDQ3MzRiZjI3ZjU1OTUtZmY5ZDJkMzViNTA1ZDM2M2M3YTY3NDAyNDRjNTZlMzgvdGlsZXMve3p9L3t4fS97eX0iLAogICAgICAgICAgICAgICAgeyJhdHRyaWJ1dGlvbiI6ICJHb29nbGUgRWFydGggRW5naW5lIiwgImRldGVjdFJldGluYSI6IGZhbHNlLCAibWF4TmF0aXZlWm9vbSI6IDE4LCAibWF4Wm9vbSI6IDE4LCAibWluWm9vbSI6IDAsICJub1dyYXAiOiBmYWxzZSwgIm9wYWNpdHkiOiAxLjAsICJzdWJkb21haW5zIjogImFiYyIsICJ0bXMiOiBmYWxzZX0KICAgICAgICAgICAgKS5hZGRUbyhtYXBfNWFkOWZiNTllZWJhNDg4YWEzMjIyODUwNTU3M2RjZjYpOwogICAgICAgIAogICAgCiAgICAgICAgICAgIHZhciB0aWxlX2xheWVyXzIyNDQ0NWJjNjk0ZDQxNzBhYjhhOTE2ODNlMDgwZjFjID0gTC50aWxlTGF5ZXIoCiAgICAgICAgICAgICAgICAiaHR0cHM6Ly9lYXJ0aGVuZ2luZS5nb29nbGVhcGlzLmNvbS92MWFscGhhL3Byb2plY3RzL2VhcnRoZW5naW5lLWxlZ2FjeS9tYXBzL2ZmZmE0OTM2NWI4NzFlM2FhYmEyMTFhMjVmNzA2MzkwLTM1MzQ2MzYyOTkzZDU4MGI2OWNkOTYxNDE4N2IzZTE3L3RpbGVzL3t6fS97eH0ve3l9IiwKICAgICAgICAgICAgICAgIHsiYXR0cmlidXRpb24iOiAiR29vZ2xlIEVhcnRoIEVuZ2luZSIsICJkZXRlY3RSZXRpbmEiOiBmYWxzZSwgIm1heE5hdGl2ZVpvb20iOiAxOCwgIm1heFpvb20iOiAxOCwgIm1pblpvb20iOiAwLCAibm9XcmFwIjogZmFsc2UsICJvcGFjaXR5IjogMS4wLCAic3ViZG9tYWlucyI6ICJhYmMiLCAidG1zIjogZmFsc2V9CiAgICAgICAgICAgICkuYWRkVG8obWFwXzVhZDlmYjU5ZWViYTQ4OGFhMzIyMjg1MDU1NzNkY2Y2KTsKICAgICAgICAKICAgIAogICAgICAgICAgICB2YXIgdGlsZV9sYXllcl80NTFlYTYyOTRkYTY0MjcxOWRiYzNkOTRmNDEyYzE1YyA9IEwudGlsZUxheWVyKAogICAgICAgICAgICAgICAgImh0dHBzOi8vZWFydGhlbmdpbmUuZ29vZ2xlYXBpcy5jb20vdjFhbHBoYS9wcm9qZWN0cy9lYXJ0aGVuZ2luZS1sZWdhY3kvbWFwcy83OGNmMWY1ZjkyMjg1Zjc5ZWFjODU2NWZlMTI5NzU2Ny1mZTQ1N2Q4MTYxNTE2MTcyM2FiNzg5YTRjOWNhYjBiNS90aWxlcy97en0ve3h9L3t5fSIsCiAgICAgICAgICAgICAgICB7ImF0dHJpYnV0aW9uIjogIkdvb2dsZSBFYXJ0aCBFbmdpbmUiLCAiZGV0ZWN0UmV0aW5hIjogZmFsc2UsICJtYXhOYXRpdmVab29tIjogMTgsICJtYXhab29tIjogMTgsICJtaW5ab29tIjogMCwgIm5vV3JhcCI6IGZhbHNlLCAib3BhY2l0eSI6IDEuMCwgInN1YmRvbWFpbnMiOiAiYWJjIiwgInRtcyI6IGZhbHNlfQogICAgICAgICAgICApLmFkZFRvKG1hcF81YWQ5ZmI1OWVlYmE0ODhhYTMyMjI4NTA1NTczZGNmNik7CiAgICAgICAgCiAgICAKICAgICAgICAgICAgdmFyIGxheWVyX2NvbnRyb2xfOGJhMDBiZmQwZDFiNDVlYjk4MjRkMDM1NWVkYWI1ZWIgPSB7CiAgICAgICAgICAgICAgICBiYXNlX2xheWVycyA6IHsKICAgICAgICAgICAgICAgICAgICAib3BlbnN0cmVldG1hcCIgOiB0aWxlX2xheWVyXzg3OWI3MzUwYmRiNjQ4NzNiOGM0YmRkMWY5YjVkZjJmLAogICAgICAgICAgICAgICAgfSwKICAgICAgICAgICAgICAgIG92ZXJsYXlzIDogIHsKICAgICAgICAgICAgICAgICAgICAiR29vZ2xlIFNhdGVsbGl0ZSIgOiB0aWxlX2xheWVyXzczM2E5MzhmOTg3YjRjZGI5ZmQwZGI5ODc1NDQ2OGU2LAogICAgICAgICAgICAgICAgICAgICJwcmVGaXJlIiA6IHRpbGVfbGF5ZXJfOTYyMTM1MzI2ZTMyNDlmNGE2NDQxOGFlM2JkMGY3YjMsCiAgICAgICAgICAgICAgICAgICAgInBvc3RGaXJlIiA6IHRpbGVfbGF5ZXJfNzAzNDUyYzE5YjM1NGUyNTlhMzZmODg0MzBlMzBhMjUsCiAgICAgICAgICAgICAgICAgICAgInBvc3RGaXJlX2NsYXNzaWZpY2F0aW9uIiA6IHRpbGVfbGF5ZXJfMDJkZjMyNzlmOWVjNGQ3Yzk3ZmEwODRkZGI0NGIzMzYsCiAgICAgICAgICAgICAgICAgICAgInRyYWluIiA6IHRpbGVfbGF5ZXJfMjI0NDQ1YmM2OTRkNDE3MGFiOGE5MTY4M2UwODBmMWMsCiAgICAgICAgICAgICAgICAgICAgInRlc3QiIDogdGlsZV9sYXllcl80NTFlYTYyOTRkYTY0MjcxOWRiYzNkOTRmNDEyYzE1YywKICAgICAgICAgICAgICAgIH0sCiAgICAgICAgICAgIH07CiAgICAgICAgICAgIEwuY29udHJvbC5sYXllcnMoCiAgICAgICAgICAgICAgICBsYXllcl9jb250cm9sXzhiYTAwYmZkMGQxYjQ1ZWI5ODI0ZDAzNTVlZGFiNWViLmJhc2VfbGF5ZXJzLAogICAgICAgICAgICAgICAgbGF5ZXJfY29udHJvbF84YmEwMGJmZDBkMWI0NWViOTgyNGQwMzU1ZWRhYjVlYi5vdmVybGF5cywKICAgICAgICAgICAgICAgIHsiYXV0b1pJbmRleCI6IHRydWUsICJjb2xsYXBzZWQiOiB0cnVlLCAicG9zaXRpb24iOiAidG9wcmlnaHQifQogICAgICAgICAgICApLmFkZFRvKG1hcF81YWQ5ZmI1OWVlYmE0ODhhYTMyMjI4NTA1NTczZGNmNik7CiAgICAgICAgCjwvc2NyaXB0Pg== onload=\"this.contentDocument.open();this.contentDocument.write(atob(this.getAttribute('data-html')));this.contentDocument.close();\" allowfullscreen webkitallowfullscreen mozallowfullscreen></iframe></div></div>"
            ],
            "text/plain": [
              "<geemap.eefolium.Map at 0x7fa57a8eccf8>"
            ]
          },
          "metadata": {
            "tags": []
          },
          "execution_count": 73
        }
      ]
    },
    {
      "cell_type": "markdown",
      "metadata": {
        "id": "_NbW-tqNvT83",
        "colab_type": "text"
      },
      "source": [
        "__Summarization of Decision Tree Classification Results__\n",
        "<br> The overall accuracy was 86.72% but decision tree classifier cannot be considered as a good classifier as there is negative Cohen's Kappa coefficient, implying bad agreement of ground truth and predictions. Possibly due to the imbalance distribution of different damage samples, the user's accuracy (1-commision error) and producer's accuracy (1-omission error) are only high for no-damage buildings. The spatial map also showed a bad classification with almost all buildings labeled as no-damage for both of the two fires. \n",
        "<br>Further modification of the method can be focus on grouping building types into 3 types: non-building, no-damage, and destroyed. \n",
        "<br> Feature importance showed that only around half of the variables can be considered as important features and were used for decision tree classifier. Red band reflection is a dominated feature determining the predicition accuracy. Other important features were mostly texture bands for RGBN bands and some vegetation indicies such as normalized difference vegetation index and shadow index.\n"
      ]
    },
    {
      "cell_type": "markdown",
      "metadata": {
        "id": "nvGQ15MonyLo",
        "colab_type": "text"
      },
      "source": [
        "### Support Vector Machine\n"
      ]
    },
    {
      "cell_type": "markdown",
      "metadata": {
        "id": "GBocdORnDvIZ",
        "colab_type": "text"
      },
      "source": [
        "#### Classifier"
      ]
    },
    {
      "cell_type": "code",
      "metadata": {
        "id": "zyeinqLcl98N",
        "colab_type": "code",
        "colab": {}
      },
      "source": [
        "# Create an SVM classifier with custom parameters.\n",
        "classifier = ee.Classifier.libsvm(**{\n",
        "  'kernelType': 'RBF'\n",
        "}).train(training, 'dmg_code', bands)\n",
        "\n",
        "# Classify the image.\n",
        "postFire_classified = postFire_filt.select(bands).classify(classifier)"
      ],
      "execution_count": 0,
      "outputs": []
    },
    {
      "cell_type": "markdown",
      "metadata": {
        "id": "Sur-PfpiDxWb",
        "colab_type": "text"
      },
      "source": [
        "#### Validation"
      ]
    },
    {
      "cell_type": "code",
      "metadata": {
        "id": "ebci6zNT4T2p",
        "colab_type": "code",
        "colab": {}
      },
      "source": [
        "validation = postFire_classified.sampleRegions(**{\n",
        "  'collection': test_data,\n",
        "  'properties': ['dmg_code'],\n",
        "  'scale': 30,\n",
        "})\n",
        "\n",
        "testAccuracy = validation.errorMatrix('dmg_code', 'classification');"
      ],
      "execution_count": 0,
      "outputs": []
    },
    {
      "cell_type": "code",
      "metadata": {
        "id": "JqUoOcxl9go4",
        "colab_type": "code",
        "outputId": "a4e0567a-7d02-4a10-f487-353fcd478617",
        "colab": {
          "base_uri": "https://localhost:8080/",
          "height": 87
        }
      },
      "source": [
        "print(\"Test Accuracy: \", testAccuracy.accuracy().getInfo())\n",
        "print(\"Kappa Accuracy: \", testAccuracy.kappa().getInfo())\n",
        "print(\"Producer Accuracy: \", testAccuracy.producersAccuracy().getInfo())\n",
        "print(\"Consumers Accuracy(): \", testAccuracy.consumersAccuracy().getInfo())"
      ],
      "execution_count": 0,
      "outputs": [
        {
          "output_type": "stream",
          "text": [
            "Test Accuracy:  0.8687012065294535\n",
            "Kappa Accuracy:  0\n",
            "Producer Accuracy:  [[0], [1], [0], [0], [0]]\n",
            "Consumers Accuracy():  [[0, 0.8687012065294535, 0, 0, 0]]\n"
          ],
          "name": "stdout"
        }
      ]
    },
    {
      "cell_type": "markdown",
      "metadata": {
        "id": "vf3HuAQOEEiK",
        "colab_type": "text"
      },
      "source": [
        "#### Classification Visual"
      ]
    },
    {
      "cell_type": "code",
      "metadata": {
        "id": "xT5b0xvF0BSi",
        "colab_type": "code",
        "outputId": "8ff2da2b-8922-42da-93be-a4fbb7f29eaa",
        "colab": {
          "base_uri": "https://localhost:8080/",
          "height": 531
        }
      },
      "source": [
        "Map = emap.Map(center=[38.50178453635526,-122.74843617724784], zoom=11)\n",
        "Map.addLayer(preFire.select(['R', 'G', 'B']), trueColorVis, 'preFire')\n",
        "Map.addLayer(postFire.select(['R', 'G', 'B']), trueColorVis, 'postFire')\n",
        "Map.addLayer(postFire_classified,\n",
        "             {'palette': train_palette, 'min': 0, 'max':4},\n",
        "             'postFire_classification')\n",
        "Map.addLayer(visualizeByAttribute(train_data, 'dmg_code'), {'palette': train_palette, 'min': 0, 'max':4}, 'train')\n",
        "Map.addLayer(visualizeByAttribute(test_data, 'dmg_code'), {'palette': train_palette,'min': 0, 'max':4}, 'test')\n",
        "Map.addLayerControl()\n",
        "Map"
      ],
      "execution_count": 0,
      "outputs": [
        {
          "output_type": "execute_result",
          "data": {
            "text/html": [
              "<div style=\"width:100%;\"><div style=\"position:relative;width:100%;height:0;padding-bottom:60%;\"><span style=\"color:#565656\">Make this Notebook Trusted to load map: File -> Trust Notebook</span><iframe src=\"about:blank\" style=\"position:absolute;width:100%;height:100%;left:0;top:0;border:none !important;\" data-html=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 onload=\"this.contentDocument.open();this.contentDocument.write(atob(this.getAttribute('data-html')));this.contentDocument.close();\" allowfullscreen webkitallowfullscreen mozallowfullscreen></iframe></div></div>"
            ],
            "text/plain": [
              "<geemap.eefolium.Map at 0x7fa57a7e3198>"
            ]
          },
          "metadata": {
            "tags": []
          },
          "execution_count": 77
        }
      ]
    },
    {
      "cell_type": "markdown",
      "metadata": {
        "id": "uKi2KBfAvQRe",
        "colab_type": "text"
      },
      "source": [
        "__Summarization of SVM Classification Results__\n",
        "<br> SVM classifier obtained similar classification accuracy as random forest classifier (shown as below). Also, similar to the decision tree, as influenced by the distribution of sample amounts, the relatively high accuracy does not lead to a good classification as there is low Kappa and low accuracy for classes that are not no-damage"
      ]
    },
    {
      "cell_type": "markdown",
      "metadata": {
        "id": "S8rNGShun1oK",
        "colab_type": "text"
      },
      "source": [
        "### Random Forest\n",
        "\n",
        "ee.Classifier.randomForest(numberOfTrees, variablesPerSplit, minLeafPopulation, bagFraction, outOfBagMode, seed)\n"
      ]
    },
    {
      "cell_type": "markdown",
      "metadata": {
        "id": "dzcJ2zItER97",
        "colab_type": "text"
      },
      "source": [
        "#### Classifier"
      ]
    },
    {
      "cell_type": "code",
      "metadata": {
        "id": "YMQyMiOnNLTF",
        "colab_type": "code",
        "colab": {}
      },
      "source": [
        "# Create an SVM classifier with custom parameters.\n",
        "classifier = ee.Classifier.smileRandomForest(**{\n",
        "  'numberOfTrees': 100\n",
        "}).train(training, 'dmg_code', bands)\n",
        "\n",
        "postFire_classified = postFire_filt.select(bands).classify(classifier)"
      ],
      "execution_count": 0,
      "outputs": []
    },
    {
      "cell_type": "markdown",
      "metadata": {
        "id": "wnSLtCMVMkKg",
        "colab_type": "text"
      },
      "source": [
        "#### Feature Importance"
      ]
    },
    {
      "cell_type": "code",
      "metadata": {
        "id": "nO5yzCXvJexS",
        "colab_type": "code",
        "outputId": "b8d31ef4-9b55-470b-8225-cbebbfe7b6b5",
        "colab": {
          "base_uri": "https://localhost:8080/",
          "height": 797
        }
      },
      "source": [
        "class_explain = classifier.explain()\n",
        "variable_importance = ee.Feature(None, ee.Dictionary(class_explain).get('importance'))\n",
        "variable_importance.getInfo()"
      ],
      "execution_count": 0,
      "outputs": [
        {
          "output_type": "execute_result",
          "data": {
            "text/plain": [
              "{'geometry': None,\n",
              " 'properties': {'B': 70.67130027185189,\n",
              "  'BSI': 73.77424030111477,\n",
              "  'B_corr': 76.96757882312595,\n",
              "  'B_gauss': 76.46573916887527,\n",
              "  'B_idm': 81.33837813391081,\n",
              "  'B_low_oct': 80.47469199780156,\n",
              "  'B_manha': 71.2735040028588,\n",
              "  'B_shade': 78.55580312015417,\n",
              "  'G': 63.368624276928145,\n",
              "  'G_corr': 73.39872816927638,\n",
              "  'G_gauss': 65.58644001235618,\n",
              "  'G_idm': 71.40275662052721,\n",
              "  'G_low_oct': 65.33425680486809,\n",
              "  'G_manha': 82.79302156350707,\n",
              "  'G_shade': 75.81674136105336,\n",
              "  'KMeans': 15.304898096456853,\n",
              "  'KMeans_Seg': 30.199912164495938,\n",
              "  'LVQ': 33.93049175929928,\n",
              "  'N': 71.22886329120827,\n",
              "  'NDVI': 74.23987416355511,\n",
              "  'N_contrast': 67.82075023964398,\n",
              "  'N_corr': 73.01259859000874,\n",
              "  'N_diss': 74.34349020810741,\n",
              "  'N_gauss': 85.58865462782549,\n",
              "  'N_idm': 84.92579424122262,\n",
              "  'N_low_oct': 77.38418706912024,\n",
              "  'N_manha': 78.94231675293547,\n",
              "  'N_shade': 72.35151939787688,\n",
              "  'N_var': 75.59298216570824,\n",
              "  'R': 69.70672784425446,\n",
              "  'R_contrast': 66.64502834562734,\n",
              "  'R_corr': 74.41746007663292,\n",
              "  'R_diss': 68.40494739691898,\n",
              "  'R_gauss': 81.2871325306614,\n",
              "  'R_idm': 73.79323581783154,\n",
              "  'R_low_oct': 80.56058968453347,\n",
              "  'R_manha': 77.13639543785011,\n",
              "  'R_shade': 71.45977811755475,\n",
              "  'R_var': 73.06870599295289,\n",
              "  'SI': 67.92138938416043,\n",
              "  'SNIC': 56.847712635271066,\n",
              "  'edge': 25.685605549919032,\n",
              "  'texture': 72.88873981143934},\n",
              " 'type': 'Feature'}"
            ]
          },
          "metadata": {
            "tags": []
          },
          "execution_count": 79
        }
      ]
    },
    {
      "cell_type": "code",
      "metadata": {
        "id": "jDvcpDYYUjhR",
        "colab_type": "code",
        "outputId": "63435cfb-92f5-4f7d-b417-f537fdb26c4a",
        "colab": {
          "base_uri": "https://localhost:8080/",
          "height": 883
        }
      },
      "source": [
        "sns.set(style=\"whitegrid\")\n",
        "sns.set_color_codes(\"pastel\")\n",
        "\n",
        "var_dict = variable_importance.getInfo()\n",
        "\n",
        "lists = sorted(var_dict['properties'].items(), key = lambda kv:(kv[1], kv[0]), reverse=True)\n",
        "var = [i[0] for i in lists]\n",
        "values = [i[1] for i in lists]\n",
        "d = pd.DataFrame({'Variables':var,'Values':values})\n",
        "\n",
        "plt.figure(figsize=(5,15))\n",
        "sns.barplot('Values', 'Variables', data = d, label=\"Variables\", color=\"b\")\n",
        "plt.savefig(\"Model_Fig/RF_feature_imp.png\", dpi=250)"
      ],
      "execution_count": 0,
      "outputs": [
        {
          "output_type": "display_data",
          "data": {
            "image/png": "[encoded data removed]",
            "text/plain": [
              "<Figure size 360x1080 with 1 Axes>"
            ]
          },
          "metadata": {
            "tags": []
          }
        }
      ]
    },
    {
      "cell_type": "markdown",
      "metadata": {
        "id": "j4dXFbu3EWxx",
        "colab_type": "text"
      },
      "source": [
        "####Validation"
      ]
    },
    {
      "cell_type": "code",
      "metadata": {
        "id": "xN6ltlsR98vI",
        "colab_type": "code",
        "colab": {}
      },
      "source": [
        "validation = postFire_classified.sampleRegions(**{\n",
        "  'collection': test_data,\n",
        "  'properties': ['dmg_code'],\n",
        "  'scale': 30,\n",
        "})\n",
        "\n",
        "testAccuracy = validation.errorMatrix('dmg_code', 'classification');"
      ],
      "execution_count": 0,
      "outputs": []
    },
    {
      "cell_type": "code",
      "metadata": {
        "id": "8KuNv9oN-ByY",
        "colab_type": "code",
        "outputId": "cf899f45-e94e-4a68-efc5-e486b2e545bb",
        "colab": {
          "base_uri": "https://localhost:8080/",
          "height": 87
        }
      },
      "source": [
        "print(\"Test Accuracy: \", testAccuracy.accuracy().getInfo())\n",
        "print(\"Kappa Accuracy: \", testAccuracy.kappa().getInfo())\n",
        "print(\"Producer Accuracy: \", testAccuracy.producersAccuracy().getInfo())\n",
        "print(\"Consumers Accuracy(): \", testAccuracy.consumersAccuracy().getInfo())"
      ],
      "execution_count": 0,
      "outputs": [
        {
          "output_type": "stream",
          "text": [
            "Test Accuracy:  0.8687012065294535\n",
            "Kappa Accuracy:  0\n",
            "Producer Accuracy:  [[0], [1], [0], [0], [0]]\n",
            "Consumers Accuracy():  [[0, 0.8687012065294535, 0, 0, 0]]\n"
          ],
          "name": "stdout"
        }
      ]
    },
    {
      "cell_type": "markdown",
      "metadata": {
        "id": "o8oiQsgnEZHg",
        "colab_type": "text"
      },
      "source": [
        "#### Classification Visual"
      ]
    },
    {
      "cell_type": "code",
      "metadata": {
        "id": "F89kIkZZooEx",
        "colab_type": "code",
        "outputId": "91c6ac29-4cf2-4fbf-dd85-9bb1bddc2c33",
        "colab": {
          "base_uri": "https://localhost:8080/",
          "height": 531
        }
      },
      "source": [
        "Map = emap.Map(center=[38.50178453635526,-122.74843617724784], zoom=11)\n",
        "Map.addLayer(preFire.select(['R', 'G', 'B']), trueColorVis, 'preFire')\n",
        "Map.addLayer(postFire.select(['R', 'G', 'B']), trueColorVis, 'postFire')\n",
        "Map.addLayer(postFire_classified,\n",
        "             {'palette': train_palette, 'min': 0, 'max':4},\n",
        "             'postFire_classification')\n",
        "\n",
        "Map.addLayer(visualizeByAttribute(train_data, 'dmg_code'), {'palette': train_palette, 'min': 0, 'max':4}, 'train')\n",
        "Map.addLayer(visualizeByAttribute(test_data, 'dmg_code'), {'palette': train_palette,'min': 0, 'max':4}, 'test')\n",
        "Map.addLayerControl()\n",
        "Map"
      ],
      "execution_count": 0,
      "outputs": [
        {
          "output_type": "execute_result",
          "data": {
            "text/html": [
              "<div style=\"width:100%;\"><div style=\"position:relative;width:100%;height:0;padding-bottom:60%;\"><span style=\"color:#565656\">Make this Notebook Trusted to load map: File -> Trust Notebook</span><iframe src=\"about:blank\" style=\"position:absolute;width:100%;height:100%;left:0;top:0;border:none !important;\" data-html=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 onload=\"this.contentDocument.open();this.contentDocument.write(atob(this.getAttribute('data-html')));this.contentDocument.close();\" allowfullscreen webkitallowfullscreen mozallowfullscreen></iframe></div></div>"
            ],
            "text/plain": [
              "<geemap.eefolium.Map at 0x7fa57a754048>"
            ]
          },
          "metadata": {
            "tags": []
          },
          "execution_count": 84
        }
      ]
    },
    {
      "cell_type": "markdown",
      "metadata": {
        "id": "DHSZ1wmSpjSZ",
        "colab_type": "text"
      },
      "source": [
        "__Summarization of Random Forest Classification Results__\n",
        "<br> Again, although the overall accuracy showed as 86.87%, the random forest classifier doesn't show a good classification result when evaluated by the spatial matching of the predictoins. The Cohen's Kappa index is almost 0 indicating a bad match between ground truth and classifications. The reason might be the imbalance distribution of samples as most of them have been dominated by no-damage. This has also been verified by the user's accuracy (1-commision error) and producer's accuracy (1-omission error), which are only high for the type of no-damage buildings. The map visualizaiton futher indicate a bad classification.\n",
        "<br> As for features, the feature importance indicated that there was not a strong dominated feature determining the classification accuracy. However, it was still showing that the Gaussian filtered near infrared layer was the most important variable while some cluster layers such as kmeans segmentation, kmeans clusters, LVQ segmentations, and edge detection were among the least important variables."
      ]
    },
    {
      "cell_type": "markdown",
      "metadata": {
        "id": "hmmAFGRfyTJ-",
        "colab_type": "text"
      },
      "source": [
        "## Next Step (**See XGBoost and NN Notebooks**)\n",
        "As a preliminary examination of machine learning classifiers (decision tree, SVM, and random forest; trained on GEE server) doesn't show good spatial patterns and identifications of building damages even though they have overall accuracy around 85%, the next step is to test out some other methods (XGBoost and neural networks) that were normally found to have better results with some modifications of the original dataset. Please see the **XGBoost and NN notebooks** for the next step. The extracted NAIP data exported in this notebook will be used as output for these two methods and they will be ran at the local client-end with sklearn and tensorflow. A more detailed analysis of features will also be conducted in the **XGBoost notebook**."
      ]
    },
    {
      "cell_type": "code",
      "metadata": {
        "id": "IudHMFLjZ-r2",
        "colab_type": "code",
        "colab": {}
      },
      "source": [
        ""
      ],
      "execution_count": 0,
      "outputs": []
    }
  ]
}